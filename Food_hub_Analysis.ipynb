{
 "cells": [
  {
   "cell_type": "markdown",
   "id": "b5dd7c8c",
   "metadata": {},
   "source": [
    "## Food Hub Case Study\n",
    "### The food aggregator company has stored the data of the different orders made by the registered customers in their online portal. We are going to analyze the data to get a fair idea about the demand of different restaurants which will help them in enhancing their customer experience."
   ]
  },
  {
   "cell_type": "markdown",
   "id": "f6036805",
   "metadata": {},
   "source": [
    "## Dataset Information:\n",
    "### food_hub.csv: It contains information about the users ids, customer ids, cuisine type, restaurant name, cost of the order, preparation time and delivery time."
   ]
  },
  {
   "cell_type": "markdown",
   "id": "c2d3e637",
   "metadata": {},
   "source": [
    "## Objective:\n",
    "### To extract insights from the dataset."
   ]
  },
  {
   "cell_type": "markdown",
   "id": "a8393e83",
   "metadata": {},
   "source": [
    "## Learning Outcomes:¶\n",
    "### Use of Pandas Functions - shape, describe, groupby, merge, loc etc."
   ]
  },
  {
   "cell_type": "markdown",
   "id": "b2a948cf",
   "metadata": {},
   "source": [
    "### Let us start by importing the required libraries"
   ]
  },
  {
   "cell_type": "code",
   "execution_count": 164,
   "id": "7e4a7f67",
   "metadata": {},
   "outputs": [],
   "source": [
    "# import libraries for data manipulation\n",
    "import numpy as np\n",
    "import pandas as pd\n",
    "\n",
    "# import libraries for data visualization\n",
    "import matplotlib.pyplot as plt\n",
    "import seaborn as sns"
   ]
  },
  {
   "cell_type": "code",
   "execution_count": 165,
   "id": "4b4229cf",
   "metadata": {},
   "outputs": [],
   "source": [
    "# Library to suppress warnings or deprecation notes \n",
    "import warnings\n",
    "warnings.filterwarnings('ignore')"
   ]
  },
  {
   "cell_type": "markdown",
   "id": "b9bc420b",
   "metadata": {},
   "source": [
    "### Understanding the structure of the data"
   ]
  },
  {
   "cell_type": "code",
   "execution_count": 166,
   "id": "2ca803f0",
   "metadata": {},
   "outputs": [
    {
     "data": {
      "text/html": [
       "<div>\n",
       "<style scoped>\n",
       "    .dataframe tbody tr th:only-of-type {\n",
       "        vertical-align: middle;\n",
       "    }\n",
       "\n",
       "    .dataframe tbody tr th {\n",
       "        vertical-align: top;\n",
       "    }\n",
       "\n",
       "    .dataframe thead th {\n",
       "        text-align: right;\n",
       "    }\n",
       "</style>\n",
       "<table border=\"1\" class=\"dataframe\">\n",
       "  <thead>\n",
       "    <tr style=\"text-align: right;\">\n",
       "      <th></th>\n",
       "      <th>order_id</th>\n",
       "      <th>customer_id</th>\n",
       "      <th>restaurant_name</th>\n",
       "      <th>cuisine_type</th>\n",
       "      <th>cost_of_the_order</th>\n",
       "      <th>day_of_the_week</th>\n",
       "      <th>rating</th>\n",
       "      <th>food_preparation_time</th>\n",
       "      <th>delivery_time</th>\n",
       "    </tr>\n",
       "  </thead>\n",
       "  <tbody>\n",
       "    <tr>\n",
       "      <th>0</th>\n",
       "      <td>1477147</td>\n",
       "      <td>337525</td>\n",
       "      <td>Hangawi</td>\n",
       "      <td>Korean</td>\n",
       "      <td>30.75</td>\n",
       "      <td>Weekend</td>\n",
       "      <td>Not given</td>\n",
       "      <td>25</td>\n",
       "      <td>20</td>\n",
       "    </tr>\n",
       "    <tr>\n",
       "      <th>1</th>\n",
       "      <td>1477685</td>\n",
       "      <td>358141</td>\n",
       "      <td>Blue Ribbon Sushi Izakaya</td>\n",
       "      <td>Japanese</td>\n",
       "      <td>12.08</td>\n",
       "      <td>Weekend</td>\n",
       "      <td>Not given</td>\n",
       "      <td>25</td>\n",
       "      <td>23</td>\n",
       "    </tr>\n",
       "    <tr>\n",
       "      <th>2</th>\n",
       "      <td>1477070</td>\n",
       "      <td>66393</td>\n",
       "      <td>Cafe Habana</td>\n",
       "      <td>Mexican</td>\n",
       "      <td>12.23</td>\n",
       "      <td>Weekday</td>\n",
       "      <td>5</td>\n",
       "      <td>23</td>\n",
       "      <td>28</td>\n",
       "    </tr>\n",
       "    <tr>\n",
       "      <th>3</th>\n",
       "      <td>1477334</td>\n",
       "      <td>106968</td>\n",
       "      <td>Blue Ribbon Fried Chicken</td>\n",
       "      <td>American</td>\n",
       "      <td>29.20</td>\n",
       "      <td>Weekend</td>\n",
       "      <td>3</td>\n",
       "      <td>25</td>\n",
       "      <td>15</td>\n",
       "    </tr>\n",
       "    <tr>\n",
       "      <th>4</th>\n",
       "      <td>1478249</td>\n",
       "      <td>76942</td>\n",
       "      <td>Dirty Bird to Go</td>\n",
       "      <td>American</td>\n",
       "      <td>11.59</td>\n",
       "      <td>Weekday</td>\n",
       "      <td>4</td>\n",
       "      <td>25</td>\n",
       "      <td>24</td>\n",
       "    </tr>\n",
       "  </tbody>\n",
       "</table>\n",
       "</div>"
      ],
      "text/plain": [
       "   order_id  customer_id            restaurant_name cuisine_type  \\\n",
       "0   1477147       337525                    Hangawi       Korean   \n",
       "1   1477685       358141  Blue Ribbon Sushi Izakaya     Japanese   \n",
       "2   1477070        66393                Cafe Habana      Mexican   \n",
       "3   1477334       106968  Blue Ribbon Fried Chicken     American   \n",
       "4   1478249        76942           Dirty Bird to Go     American   \n",
       "\n",
       "   cost_of_the_order day_of_the_week     rating  food_preparation_time  \\\n",
       "0              30.75         Weekend  Not given                     25   \n",
       "1              12.08         Weekend  Not given                     25   \n",
       "2              12.23         Weekday          5                     23   \n",
       "3              29.20         Weekend          3                     25   \n",
       "4              11.59         Weekday          4                     25   \n",
       "\n",
       "   delivery_time  \n",
       "0             20  \n",
       "1             23  \n",
       "2             28  \n",
       "3             15  \n",
       "4             24  "
      ]
     },
     "execution_count": 166,
     "metadata": {},
     "output_type": "execute_result"
    }
   ],
   "source": [
    "# read the data\n",
    "df = pd.read_csv('foodhub_order.csv')\n",
    "# returns the first 5 rows\n",
    "df.head()"
   ]
  },
  {
   "cell_type": "markdown",
   "id": "268060b7",
   "metadata": {},
   "source": [
    "#### Observations:\n",
    "\n",
    "The DataFrame has 9 columns as mentioned in the Data Dictionary. Data in each row corresponds to the order placed by a customer."
   ]
  },
  {
   "cell_type": "markdown",
   "id": "c489b1f7",
   "metadata": {},
   "source": [
    "### **Question 1:** Write the code to check the shape of the dataset and write your observations based on that. (0.5 mark)"
   ]
  },
  {
   "cell_type": "code",
   "execution_count": 167,
   "id": "2fbc397e",
   "metadata": {},
   "outputs": [
    {
     "data": {
      "text/plain": [
       "(1898, 9)"
      ]
     },
     "execution_count": 167,
     "metadata": {},
     "output_type": "execute_result"
    }
   ],
   "source": [
    "df.shape"
   ]
  },
  {
   "cell_type": "markdown",
   "id": "eec8a620",
   "metadata": {},
   "source": [
    "#### Observations: \n",
    "The dataset has 1898 rows and 9 columns."
   ]
  },
  {
   "cell_type": "markdown",
   "id": "8683c2f5",
   "metadata": {},
   "source": [
    "### Question 2: Write the observations based on the below output from the info() method. (0.5 mark)"
   ]
  },
  {
   "cell_type": "code",
   "execution_count": 168,
   "id": "e4208151",
   "metadata": {},
   "outputs": [
    {
     "name": "stdout",
     "output_type": "stream",
     "text": [
      "<class 'pandas.core.frame.DataFrame'>\n",
      "RangeIndex: 1898 entries, 0 to 1897\n",
      "Data columns (total 9 columns):\n",
      " #   Column                 Non-Null Count  Dtype  \n",
      "---  ------                 --------------  -----  \n",
      " 0   order_id               1898 non-null   int64  \n",
      " 1   customer_id            1898 non-null   int64  \n",
      " 2   restaurant_name        1898 non-null   object \n",
      " 3   cuisine_type           1898 non-null   object \n",
      " 4   cost_of_the_order      1898 non-null   float64\n",
      " 5   day_of_the_week        1898 non-null   object \n",
      " 6   rating                 1898 non-null   object \n",
      " 7   food_preparation_time  1898 non-null   int64  \n",
      " 8   delivery_time          1898 non-null   int64  \n",
      "dtypes: float64(1), int64(4), object(4)\n",
      "memory usage: 133.6+ KB\n"
     ]
    }
   ],
   "source": [
    "df.info()"
   ]
  },
  {
   "cell_type": "markdown",
   "id": "5a8d78c4",
   "metadata": {},
   "source": [
    "#### Observations:\n",
    "* All columns have 1898 entries indicating that there is no missing values.\n",
    "* restaurant_name, cuisine_type, day_of_the_week and rating have object data type.\n",
    "* cost_of_the_order is of 'Float\" data type.\n",
    "* order_id, customer_id, food_preparation_time and delivery_time have numerical data type."
   ]
  },
  {
   "cell_type": "markdown",
   "id": "762d2125",
   "metadata": {},
   "source": [
    "### Question 3: 'restaurant_name', 'cuisine_type', 'day_of_the_week' are object types. Write the code to convert the mentioned features to 'category' and write your observations on the same. (0.5 mark)"
   ]
  },
  {
   "cell_type": "code",
   "execution_count": 169,
   "id": "44b94e57",
   "metadata": {},
   "outputs": [
    {
     "name": "stdout",
     "output_type": "stream",
     "text": [
      "<class 'pandas.core.frame.DataFrame'>\n",
      "RangeIndex: 1898 entries, 0 to 1897\n",
      "Data columns (total 9 columns):\n",
      " #   Column                 Non-Null Count  Dtype   \n",
      "---  ------                 --------------  -----   \n",
      " 0   order_id               1898 non-null   int64   \n",
      " 1   customer_id            1898 non-null   int64   \n",
      " 2   restaurant_name        1898 non-null   category\n",
      " 3   cuisine_type           1898 non-null   category\n",
      " 4   cost_of_the_order      1898 non-null   float64 \n",
      " 5   day_of_the_week        1898 non-null   category\n",
      " 6   rating                 1898 non-null   object  \n",
      " 7   food_preparation_time  1898 non-null   int64   \n",
      " 8   delivery_time          1898 non-null   int64   \n",
      "dtypes: category(3), float64(1), int64(4), object(1)\n",
      "memory usage: 102.7+ KB\n"
     ]
    }
   ],
   "source": [
    "df['restaurant_name'] = df.restaurant_name.astype('category')\n",
    "df['cuisine_type'] = df.cuisine_type.astype('category')\n",
    "df['day_of_the_week'] = df.day_of_the_week.astype('category')\n",
    "df.info()"
   ]
  },
  {
   "cell_type": "markdown",
   "id": "2664b64a",
   "metadata": {},
   "source": [
    "#### Observations:\n",
    "The columns of 'restaurant_name', 'cuisine_type' and 'day_of_the_week' has been converted from \"object\" to categorical data. This will help to reduce the data space to store the above dataframe. The dataframe intially was 133.6+KB and after converting the data,it became 102.7+KB"
   ]
  },
  {
   "cell_type": "markdown",
   "id": "b4b86b6c",
   "metadata": {},
   "source": [
    "### **Question 4:** Write the code to find the summary statistics and write your observations based on that. (1 mark)"
   ]
  },
  {
   "cell_type": "code",
   "execution_count": 170,
   "id": "a2d23fd0",
   "metadata": {},
   "outputs": [
    {
     "data": {
      "text/html": [
       "<div>\n",
       "<style scoped>\n",
       "    .dataframe tbody tr th:only-of-type {\n",
       "        vertical-align: middle;\n",
       "    }\n",
       "\n",
       "    .dataframe tbody tr th {\n",
       "        vertical-align: top;\n",
       "    }\n",
       "\n",
       "    .dataframe thead th {\n",
       "        text-align: right;\n",
       "    }\n",
       "</style>\n",
       "<table border=\"1\" class=\"dataframe\">\n",
       "  <thead>\n",
       "    <tr style=\"text-align: right;\">\n",
       "      <th></th>\n",
       "      <th>count</th>\n",
       "      <th>mean</th>\n",
       "      <th>std</th>\n",
       "      <th>min</th>\n",
       "      <th>25%</th>\n",
       "      <th>50%</th>\n",
       "      <th>75%</th>\n",
       "      <th>max</th>\n",
       "    </tr>\n",
       "  </thead>\n",
       "  <tbody>\n",
       "    <tr>\n",
       "      <th>order_id</th>\n",
       "      <td>1898.0</td>\n",
       "      <td>1.477496e+06</td>\n",
       "      <td>548.049724</td>\n",
       "      <td>1476547.00</td>\n",
       "      <td>1477021.25</td>\n",
       "      <td>1477495.50</td>\n",
       "      <td>1.477970e+06</td>\n",
       "      <td>1478444.00</td>\n",
       "    </tr>\n",
       "    <tr>\n",
       "      <th>customer_id</th>\n",
       "      <td>1898.0</td>\n",
       "      <td>1.711685e+05</td>\n",
       "      <td>113698.139743</td>\n",
       "      <td>1311.00</td>\n",
       "      <td>77787.75</td>\n",
       "      <td>128600.00</td>\n",
       "      <td>2.705250e+05</td>\n",
       "      <td>405334.00</td>\n",
       "    </tr>\n",
       "    <tr>\n",
       "      <th>cost_of_the_order</th>\n",
       "      <td>1898.0</td>\n",
       "      <td>1.649885e+01</td>\n",
       "      <td>7.483812</td>\n",
       "      <td>4.47</td>\n",
       "      <td>12.08</td>\n",
       "      <td>14.14</td>\n",
       "      <td>2.229750e+01</td>\n",
       "      <td>35.41</td>\n",
       "    </tr>\n",
       "    <tr>\n",
       "      <th>food_preparation_time</th>\n",
       "      <td>1898.0</td>\n",
       "      <td>2.737197e+01</td>\n",
       "      <td>4.632481</td>\n",
       "      <td>20.00</td>\n",
       "      <td>23.00</td>\n",
       "      <td>27.00</td>\n",
       "      <td>3.100000e+01</td>\n",
       "      <td>35.00</td>\n",
       "    </tr>\n",
       "    <tr>\n",
       "      <th>delivery_time</th>\n",
       "      <td>1898.0</td>\n",
       "      <td>2.416175e+01</td>\n",
       "      <td>4.972637</td>\n",
       "      <td>15.00</td>\n",
       "      <td>20.00</td>\n",
       "      <td>25.00</td>\n",
       "      <td>2.800000e+01</td>\n",
       "      <td>33.00</td>\n",
       "    </tr>\n",
       "  </tbody>\n",
       "</table>\n",
       "</div>"
      ],
      "text/plain": [
       "                        count          mean            std         min  \\\n",
       "order_id               1898.0  1.477496e+06     548.049724  1476547.00   \n",
       "customer_id            1898.0  1.711685e+05  113698.139743     1311.00   \n",
       "cost_of_the_order      1898.0  1.649885e+01       7.483812        4.47   \n",
       "food_preparation_time  1898.0  2.737197e+01       4.632481       20.00   \n",
       "delivery_time          1898.0  2.416175e+01       4.972637       15.00   \n",
       "\n",
       "                              25%         50%           75%         max  \n",
       "order_id               1477021.25  1477495.50  1.477970e+06  1478444.00  \n",
       "customer_id              77787.75   128600.00  2.705250e+05   405334.00  \n",
       "cost_of_the_order           12.08       14.14  2.229750e+01       35.41  \n",
       "food_preparation_time       23.00       27.00  3.100000e+01       35.00  \n",
       "delivery_time               20.00       25.00  2.800000e+01       33.00  "
      ]
     },
     "execution_count": 170,
     "metadata": {},
     "output_type": "execute_result"
    }
   ],
   "source": [
    "df.describe().T"
   ]
  },
  {
   "cell_type": "markdown",
   "id": "c13e9ce6",
   "metadata": {},
   "source": [
    "#### Observations:\n",
    "* There is huge difference between the maximum and the 3rd quartile value for the 'cost_of_the_order', 'food_preparation_time' and 'delivery_time' indicating positive skewness.\n",
    "* The minimum order on the food('cost_of_the_order) is 4.47 dollars.\n",
    "* It takes minimum of 20 minutes to prepare any kind of cuisine(food_preparation_time).\n",
    "* The delivery time range from 15 minutes to 33 minutes."
   ]
  },
  {
   "cell_type": "markdown",
   "id": "e1d66f00",
   "metadata": {},
   "source": [
    "### **Question 5:** How many orders are not rated? (0.5 mark)"
   ]
  },
  {
   "cell_type": "code",
   "execution_count": 171,
   "id": "652018ee",
   "metadata": {},
   "outputs": [
    {
     "data": {
      "text/plain": [
       "Not given    736\n",
       "5            588\n",
       "4            386\n",
       "3            188\n",
       "Name: rating, dtype: int64"
      ]
     },
     "execution_count": 171,
     "metadata": {},
     "output_type": "execute_result"
    }
   ],
   "source": [
    "df['rating'].value_counts()"
   ]
  },
  {
   "cell_type": "markdown",
   "id": "30f14e54",
   "metadata": {},
   "source": [
    "#### Observations:\n",
    "* There are totally 4 kinds of ratings.\n",
    "* 736 customers have not rated the restaurants for the order they placed."
   ]
  },
  {
   "cell_type": "markdown",
   "id": "293a6cf5",
   "metadata": {},
   "source": [
    "### Exploratory Data Analysis (EDA)"
   ]
  },
  {
   "cell_type": "markdown",
   "id": "8ec9fd99",
   "metadata": {},
   "source": [
    "### Univariate Analysis"
   ]
  },
  {
   "cell_type": "markdown",
   "id": "52b884cc",
   "metadata": {},
   "source": [
    "### **Question 6:** Explore all the variables and provide observations on the distributions of all the relevant variables in the dataset. (5 marks)"
   ]
  },
  {
   "cell_type": "code",
   "execution_count": 172,
   "id": "13169ac1",
   "metadata": {},
   "outputs": [
    {
     "data": {
      "text/plain": [
       "<AxesSubplot:xlabel='food_preparation_time'>"
      ]
     },
     "execution_count": 172,
     "metadata": {},
     "output_type": "execute_result"
    },
    {
     "data": {
      "image/png": "[encoded data removed]",
      "text/plain": [
       "<Figure size 432x288 with 1 Axes>"
      ]
     },
     "metadata": {
      "needs_background": "light"
     },
     "output_type": "display_data"
    }
   ],
   "source": [
    "# To find out how the distribution of the column 'food_preparation_time' varies in the dataframe given to us.\n",
    "# We will use violin plot for this distrubution. \n",
    "df_prep = df['food_preparation_time']\n",
    "df_prep\n",
    "sns.violinplot(df_prep)"
   ]
  },
  {
   "attachments": {},
   "cell_type": "markdown",
   "id": "29e342c0",
   "metadata": {},
   "source": [
    "* After performing the univariate analysis on food preparation time and observing the output plot, we can draw the following conclusion. \n",
    "* There are no outliers in preparation time\n",
    "* Preparation time range from 20 minutes to 35 minutes\n",
    "* 50% of the order preparation time for all type of cuisines range from 23 minutes to 31 minutes"
   ]
  },
  {
   "cell_type": "code",
   "execution_count": 173,
   "id": "beb8fcdd",
   "metadata": {},
   "outputs": [
    {
     "data": {
      "text/plain": [
       "<matplotlib.lines.Line2D at 0x25478386640>"
      ]
     },
     "execution_count": 173,
     "metadata": {},
     "output_type": "execute_result"
    },
    {
     "data": {
      "image/png": "[encoded data removed]",
      "text/plain": [
       "<Figure size 1080x504 with 1 Axes>"
      ]
     },
     "metadata": {
      "needs_background": "light"
     },
     "output_type": "display_data"
    }
   ],
   "source": [
    "#To findout how the delivery time has varied across the dataframe. \n",
    "#We plot a simple histogram with wider plot size.\n",
    "#First we will create the column for which we want to work on, here we are going to use the values of 'delivery_time'. column.\n",
    "df_deltime = df['delivery_time']\n",
    "df_deltime\n",
    "plt.figure(figsize=(15,7))\n",
    "plt.hist(df_deltime, color='pink')\n",
    "plt.axvline(df_deltime.mean(), color='r', linewidth=1)\n",
    "plt.axvline(df_deltime.median(), color='black', linestyle='dashed', linewidth=1)\n",
    "plt.axvline(df_deltime.mode()[0], color='blue', linestyle='dashed', linewidth=1)"
   ]
  },
  {
   "cell_type": "markdown",
   "id": "6649b57a",
   "metadata": {},
   "source": [
    "* The delivery time range from 15 minutes to 33 minutes.\n",
    "* The above histogram tells us most of the orders have been delivered by 25 minutes after placing the order. \n",
    "* This plot also tells us that if use this app, average time for the orders to be delivered to your door is about 24 minutes."
   ]
  },
  {
   "cell_type": "code",
   "execution_count": 174,
   "id": "d6c985e2",
   "metadata": {},
   "outputs": [
    {
     "data": {
      "text/plain": [
       "(array([483.,  77., 584., 371.,  46., 215.,  68.,  17.,  18.,  19.]),\n",
       " array([ 0. ,  1.3,  2.6,  3.9,  5.2,  6.5,  7.8,  9.1, 10.4, 11.7, 13. ]),\n",
       " <BarContainer object of 10 artists>)"
      ]
     },
     "execution_count": 174,
     "metadata": {},
     "output_type": "execute_result"
    },
    {
     "data": {
      "image/png": "[encoded data removed]",
      "text/plain": [
       "<Figure size 1296x648 with 1 Axes>"
      ]
     },
     "metadata": {
      "needs_background": "light"
     },
     "output_type": "display_data"
    }
   ],
   "source": [
    "#To find out how the cuisine type of food has been distributed in the dataframe, we shall use the distplot method.\n",
    "plt.figure(figsize=(18,9))\n",
    "plt.hist(df['cuisine_type'])"
   ]
  },
  {
   "cell_type": "markdown",
   "id": "415a4aad",
   "metadata": {},
   "source": [
    "* American cuisine is most popular cuisine followed by Korean, Japanese, Indian, and Italian cuisines. "
   ]
  },
  {
   "cell_type": "code",
   "execution_count": 175,
   "id": "5fa1f8d5",
   "metadata": {},
   "outputs": [
    {
     "data": {
      "text/plain": [
       "(array([1351.,    0.,    0.,    0.,    0.,    0.,    0.,    0.,    0.,\n",
       "         547.]),\n",
       " array([0. , 0.1, 0.2, 0.3, 0.4, 0.5, 0.6, 0.7, 0.8, 0.9, 1. ]),\n",
       " <BarContainer object of 10 artists>)"
      ]
     },
     "execution_count": 175,
     "metadata": {},
     "output_type": "execute_result"
    },
    {
     "data": {
      "image/png": "[encoded data removed]",
      "text/plain": [
       "<Figure size 432x288 with 1 Axes>"
      ]
     },
     "metadata": {
      "needs_background": "light"
     },
     "output_type": "display_data"
    }
   ],
   "source": [
    "#Lets us find out when is the popular day of the week that food is ordered.\n",
    "plt.hist(df['day_of_the_week'])"
   ]
  },
  {
   "cell_type": "markdown",
   "id": "6415a6a9",
   "metadata": {},
   "source": [
    "* We can see here most of the orders on the food are placed on the weekends. \n",
    "* There is very less food ordered during the weekdays. "
   ]
  },
  {
   "cell_type": "markdown",
   "id": "935fb4b5",
   "metadata": {},
   "source": [
    "### Question 7: Write the code to find the top 5 restaurants that have received the highest number of orders. (1 mark)"
   ]
  },
  {
   "cell_type": "code",
   "execution_count": 176,
   "id": "5acf0e4c",
   "metadata": {},
   "outputs": [
    {
     "data": {
      "text/plain": [
       "Shake Shack                  219\n",
       "The Meatball Shop            132\n",
       "Blue Ribbon Sushi            119\n",
       "Blue Ribbon Fried Chicken     96\n",
       "Parm                          68\n",
       "Name: restaurant_name, dtype: int64"
      ]
     },
     "execution_count": 176,
     "metadata": {},
     "output_type": "execute_result"
    }
   ],
   "source": [
    "df['restaurant_name'].value_counts().head()"
   ]
  },
  {
   "cell_type": "markdown",
   "id": "ad8bea45",
   "metadata": {},
   "source": [
    "#### Observations:\n",
    "* The top 5 restaurants which have the highest order are\n",
    "- Shake Shack\n",
    "- The Meatball Shop\n",
    "- Blue Ribbon Sushi\n",
    "- Blue Ribbon Fried Chicken\n",
    "- Parm\n"
   ]
  },
  {
   "cell_type": "markdown",
   "id": "c2824c41",
   "metadata": {},
   "source": [
    "### Question 8: Write the code to find the most popular cuisine on weekends. (1 mark)"
   ]
  },
  {
   "cell_type": "code",
   "execution_count": 177,
   "id": "c64c12f7",
   "metadata": {
    "scrolled": true
   },
   "outputs": [
    {
     "data": {
      "text/plain": [
       "American          415\n",
       "Japanese          335\n",
       "Italian           207\n",
       "Chinese           163\n",
       "Mexican            53\n",
       "Indian             49\n",
       "Mediterranean      32\n",
       "Middle Eastern     32\n",
       "Thai               15\n",
       "French             13\n",
       "Korean             11\n",
       "Southern           11\n",
       "Spanish            11\n",
       "Vietnamese          4\n",
       "Name: cuisine_type, dtype: int64"
      ]
     },
     "execution_count": 177,
     "metadata": {},
     "output_type": "execute_result"
    }
   ],
   "source": [
    "df_weekend = df.loc[df['day_of_the_week'] == 'Weekend']\n",
    "df_weekend['cuisine_type'].value_counts()\n"
   ]
  },
  {
   "cell_type": "markdown",
   "id": "a7be8cfa",
   "metadata": {},
   "source": [
    "#### Observations:\n",
    "* The most popular cuisine on the weekend is American followed by Japanese and Italian."
   ]
  },
  {
   "cell_type": "markdown",
   "id": "35b8aea0",
   "metadata": {},
   "source": [
    "### Question 9: Write the code to find the number of total orders where the cost is above 20 dollars. What is the percentage of such orders in the dataset?  (1 mark)"
   ]
  },
  {
   "cell_type": "code",
   "execution_count": 178,
   "id": "bcbc8a12",
   "metadata": {},
   "outputs": [
    {
     "data": {
      "text/html": [
       "<div>\n",
       "<style scoped>\n",
       "    .dataframe tbody tr th:only-of-type {\n",
       "        vertical-align: middle;\n",
       "    }\n",
       "\n",
       "    .dataframe tbody tr th {\n",
       "        vertical-align: top;\n",
       "    }\n",
       "\n",
       "    .dataframe thead th {\n",
       "        text-align: right;\n",
       "    }\n",
       "</style>\n",
       "<table border=\"1\" class=\"dataframe\">\n",
       "  <thead>\n",
       "    <tr style=\"text-align: right;\">\n",
       "      <th></th>\n",
       "      <th>index</th>\n",
       "      <th>order_id</th>\n",
       "      <th>customer_id</th>\n",
       "      <th>restaurant_name</th>\n",
       "      <th>cuisine_type</th>\n",
       "      <th>cost_of_the_order</th>\n",
       "      <th>day_of_the_week</th>\n",
       "      <th>rating</th>\n",
       "      <th>food_preparation_time</th>\n",
       "      <th>delivery_time</th>\n",
       "    </tr>\n",
       "  </thead>\n",
       "  <tbody>\n",
       "    <tr>\n",
       "      <th>0</th>\n",
       "      <td>0</td>\n",
       "      <td>1477147</td>\n",
       "      <td>337525</td>\n",
       "      <td>Hangawi</td>\n",
       "      <td>Korean</td>\n",
       "      <td>30.75</td>\n",
       "      <td>Weekend</td>\n",
       "      <td>Not given</td>\n",
       "      <td>25</td>\n",
       "      <td>20</td>\n",
       "    </tr>\n",
       "    <tr>\n",
       "      <th>1</th>\n",
       "      <td>3</td>\n",
       "      <td>1477334</td>\n",
       "      <td>106968</td>\n",
       "      <td>Blue Ribbon Fried Chicken</td>\n",
       "      <td>American</td>\n",
       "      <td>29.20</td>\n",
       "      <td>Weekend</td>\n",
       "      <td>3</td>\n",
       "      <td>25</td>\n",
       "      <td>15</td>\n",
       "    </tr>\n",
       "    <tr>\n",
       "      <th>2</th>\n",
       "      <td>5</td>\n",
       "      <td>1477224</td>\n",
       "      <td>147468</td>\n",
       "      <td>Tamarind TriBeCa</td>\n",
       "      <td>Indian</td>\n",
       "      <td>25.22</td>\n",
       "      <td>Weekday</td>\n",
       "      <td>3</td>\n",
       "      <td>20</td>\n",
       "      <td>24</td>\n",
       "    </tr>\n",
       "    <tr>\n",
       "      <th>3</th>\n",
       "      <td>12</td>\n",
       "      <td>1476966</td>\n",
       "      <td>129969</td>\n",
       "      <td>Blue Ribbon Fried Chicken</td>\n",
       "      <td>American</td>\n",
       "      <td>24.30</td>\n",
       "      <td>Weekend</td>\n",
       "      <td>5</td>\n",
       "      <td>23</td>\n",
       "      <td>17</td>\n",
       "    </tr>\n",
       "    <tr>\n",
       "      <th>4</th>\n",
       "      <td>17</td>\n",
       "      <td>1477373</td>\n",
       "      <td>139885</td>\n",
       "      <td>Blue Ribbon Sushi Izakaya</td>\n",
       "      <td>Japanese</td>\n",
       "      <td>33.03</td>\n",
       "      <td>Weekend</td>\n",
       "      <td>Not given</td>\n",
       "      <td>21</td>\n",
       "      <td>22</td>\n",
       "    </tr>\n",
       "    <tr>\n",
       "      <th>...</th>\n",
       "      <td>...</td>\n",
       "      <td>...</td>\n",
       "      <td>...</td>\n",
       "      <td>...</td>\n",
       "      <td>...</td>\n",
       "      <td>...</td>\n",
       "      <td>...</td>\n",
       "      <td>...</td>\n",
       "      <td>...</td>\n",
       "      <td>...</td>\n",
       "    </tr>\n",
       "    <tr>\n",
       "      <th>550</th>\n",
       "      <td>1884</td>\n",
       "      <td>1477437</td>\n",
       "      <td>304993</td>\n",
       "      <td>Shake Shack</td>\n",
       "      <td>American</td>\n",
       "      <td>31.43</td>\n",
       "      <td>Weekend</td>\n",
       "      <td>3</td>\n",
       "      <td>31</td>\n",
       "      <td>24</td>\n",
       "    </tr>\n",
       "    <tr>\n",
       "      <th>551</th>\n",
       "      <td>1885</td>\n",
       "      <td>1477550</td>\n",
       "      <td>97324</td>\n",
       "      <td>Shake Shack</td>\n",
       "      <td>American</td>\n",
       "      <td>29.05</td>\n",
       "      <td>Weekday</td>\n",
       "      <td>4</td>\n",
       "      <td>27</td>\n",
       "      <td>29</td>\n",
       "    </tr>\n",
       "    <tr>\n",
       "      <th>552</th>\n",
       "      <td>1892</td>\n",
       "      <td>1477473</td>\n",
       "      <td>97838</td>\n",
       "      <td>Han Dynasty</td>\n",
       "      <td>Chinese</td>\n",
       "      <td>29.15</td>\n",
       "      <td>Weekend</td>\n",
       "      <td>Not given</td>\n",
       "      <td>29</td>\n",
       "      <td>21</td>\n",
       "    </tr>\n",
       "    <tr>\n",
       "      <th>553</th>\n",
       "      <td>1893</td>\n",
       "      <td>1476701</td>\n",
       "      <td>292602</td>\n",
       "      <td>Chipotle Mexican Grill $1.99 Delivery</td>\n",
       "      <td>Mexican</td>\n",
       "      <td>22.31</td>\n",
       "      <td>Weekend</td>\n",
       "      <td>5</td>\n",
       "      <td>31</td>\n",
       "      <td>17</td>\n",
       "    </tr>\n",
       "    <tr>\n",
       "      <th>554</th>\n",
       "      <td>1895</td>\n",
       "      <td>1477819</td>\n",
       "      <td>35309</td>\n",
       "      <td>Blue Ribbon Sushi</td>\n",
       "      <td>Japanese</td>\n",
       "      <td>25.22</td>\n",
       "      <td>Weekday</td>\n",
       "      <td>Not given</td>\n",
       "      <td>31</td>\n",
       "      <td>24</td>\n",
       "    </tr>\n",
       "  </tbody>\n",
       "</table>\n",
       "<p>555 rows × 10 columns</p>\n",
       "</div>"
      ],
      "text/plain": [
       "     index  order_id  customer_id                        restaurant_name  \\\n",
       "0        0   1477147       337525                                Hangawi   \n",
       "1        3   1477334       106968              Blue Ribbon Fried Chicken   \n",
       "2        5   1477224       147468                       Tamarind TriBeCa   \n",
       "3       12   1476966       129969              Blue Ribbon Fried Chicken   \n",
       "4       17   1477373       139885              Blue Ribbon Sushi Izakaya   \n",
       "..     ...       ...          ...                                    ...   \n",
       "550   1884   1477437       304993                            Shake Shack   \n",
       "551   1885   1477550        97324                            Shake Shack   \n",
       "552   1892   1477473        97838                            Han Dynasty   \n",
       "553   1893   1476701       292602  Chipotle Mexican Grill $1.99 Delivery   \n",
       "554   1895   1477819        35309                      Blue Ribbon Sushi   \n",
       "\n",
       "    cuisine_type  cost_of_the_order day_of_the_week     rating  \\\n",
       "0         Korean              30.75         Weekend  Not given   \n",
       "1       American              29.20         Weekend          3   \n",
       "2         Indian              25.22         Weekday          3   \n",
       "3       American              24.30         Weekend          5   \n",
       "4       Japanese              33.03         Weekend  Not given   \n",
       "..           ...                ...             ...        ...   \n",
       "550     American              31.43         Weekend          3   \n",
       "551     American              29.05         Weekday          4   \n",
       "552      Chinese              29.15         Weekend  Not given   \n",
       "553      Mexican              22.31         Weekend          5   \n",
       "554     Japanese              25.22         Weekday  Not given   \n",
       "\n",
       "     food_preparation_time  delivery_time  \n",
       "0                       25             20  \n",
       "1                       25             15  \n",
       "2                       20             24  \n",
       "3                       23             17  \n",
       "4                       21             22  \n",
       "..                     ...            ...  \n",
       "550                     31             24  \n",
       "551                     27             29  \n",
       "552                     29             21  \n",
       "553                     31             17  \n",
       "554                     31             24  \n",
       "\n",
       "[555 rows x 10 columns]"
      ]
     },
     "execution_count": 178,
     "metadata": {},
     "output_type": "execute_result"
    }
   ],
   "source": [
    "df_20 = df[df['cost_of_the_order']>20].reset_index()\n",
    "df_20"
   ]
  },
  {
   "cell_type": "code",
   "execution_count": 179,
   "id": "c87cfeed",
   "metadata": {},
   "outputs": [
    {
     "data": {
      "text/plain": [
       "29.24130663856691"
      ]
     },
     "execution_count": 179,
     "metadata": {},
     "output_type": "execute_result"
    }
   ],
   "source": [
    "# To find the percentage of the orders greater than 20 dollars in the dataset.\n",
    "555/1898 *100"
   ]
  },
  {
   "cell_type": "markdown",
   "id": "c932a52c",
   "metadata": {},
   "source": [
    "#### Observations:\n",
    "* There are 555 orders which have the cost of more than 20 dollars.\n",
    "* 29 percent of the orders in the dataset cost more than 20 dollars."
   ]
  },
  {
   "cell_type": "markdown",
   "id": "8d18e9d6",
   "metadata": {},
   "source": [
    "### Question 10: Write the code to find the mean delivery time based on this dataset. (1 mark)"
   ]
  },
  {
   "cell_type": "code",
   "execution_count": 180,
   "id": "3fde1915",
   "metadata": {},
   "outputs": [
    {
     "data": {
      "text/plain": [
       "24.161749209694417"
      ]
     },
     "execution_count": 180,
     "metadata": {},
     "output_type": "execute_result"
    }
   ],
   "source": [
    "df['delivery_time'].mean()"
   ]
  },
  {
   "cell_type": "markdown",
   "id": "d8539851",
   "metadata": {},
   "source": [
    "#### Observations:\n",
    "* The average delivery time of the orders in the dataset is 24 minutes."
   ]
  },
  {
   "cell_type": "markdown",
   "id": "1e8e79d0",
   "metadata": {},
   "source": [
    "### Question 11: Suppose the company has decided to give a free coupon of 15 dollars to the customer who has spent the maximum amount on a single order. Write the code to find the ID of the customer along with the order details. (1 mark)"
   ]
  },
  {
   "cell_type": "code",
   "execution_count": 181,
   "id": "d70bebe3",
   "metadata": {},
   "outputs": [
    {
     "data": {
      "text/plain": [
       "cost_of_the_order    573\n",
       "dtype: int64"
      ]
     },
     "execution_count": 181,
     "metadata": {},
     "output_type": "execute_result"
    }
   ],
   "source": [
    "df[['cost_of_the_order']].idxmax()"
   ]
  },
  {
   "cell_type": "code",
   "execution_count": 182,
   "id": "0afe3988",
   "metadata": {},
   "outputs": [
    {
     "data": {
      "text/html": [
       "<div>\n",
       "<style scoped>\n",
       "    .dataframe tbody tr th:only-of-type {\n",
       "        vertical-align: middle;\n",
       "    }\n",
       "\n",
       "    .dataframe tbody tr th {\n",
       "        vertical-align: top;\n",
       "    }\n",
       "\n",
       "    .dataframe thead th {\n",
       "        text-align: right;\n",
       "    }\n",
       "</style>\n",
       "<table border=\"1\" class=\"dataframe\">\n",
       "  <thead>\n",
       "    <tr style=\"text-align: right;\">\n",
       "      <th></th>\n",
       "      <th>order_id</th>\n",
       "      <th>customer_id</th>\n",
       "      <th>restaurant_name</th>\n",
       "      <th>cuisine_type</th>\n",
       "      <th>cost_of_the_order</th>\n",
       "      <th>day_of_the_week</th>\n",
       "      <th>rating</th>\n",
       "      <th>food_preparation_time</th>\n",
       "      <th>delivery_time</th>\n",
       "    </tr>\n",
       "  </thead>\n",
       "  <tbody>\n",
       "    <tr>\n",
       "      <th>570</th>\n",
       "      <td>1478135</td>\n",
       "      <td>276431</td>\n",
       "      <td>The Meatball Shop</td>\n",
       "      <td>Italian</td>\n",
       "      <td>14.02</td>\n",
       "      <td>Weekday</td>\n",
       "      <td>5</td>\n",
       "      <td>20</td>\n",
       "      <td>27</td>\n",
       "    </tr>\n",
       "    <tr>\n",
       "      <th>571</th>\n",
       "      <td>1477254</td>\n",
       "      <td>58898</td>\n",
       "      <td>Blue Ribbon Sushi</td>\n",
       "      <td>Japanese</td>\n",
       "      <td>8.10</td>\n",
       "      <td>Weekend</td>\n",
       "      <td>5</td>\n",
       "      <td>35</td>\n",
       "      <td>18</td>\n",
       "    </tr>\n",
       "    <tr>\n",
       "      <th>572</th>\n",
       "      <td>1477705</td>\n",
       "      <td>60397</td>\n",
       "      <td>Jack's Wife Freda</td>\n",
       "      <td>Mediterranean</td>\n",
       "      <td>12.18</td>\n",
       "      <td>Weekend</td>\n",
       "      <td>3</td>\n",
       "      <td>33</td>\n",
       "      <td>23</td>\n",
       "    </tr>\n",
       "    <tr>\n",
       "      <th>573</th>\n",
       "      <td>1477814</td>\n",
       "      <td>62359</td>\n",
       "      <td>Pylos</td>\n",
       "      <td>Mediterranean</td>\n",
       "      <td>35.41</td>\n",
       "      <td>Weekday</td>\n",
       "      <td>4</td>\n",
       "      <td>21</td>\n",
       "      <td>29</td>\n",
       "    </tr>\n",
       "    <tr>\n",
       "      <th>574</th>\n",
       "      <td>1478059</td>\n",
       "      <td>53947</td>\n",
       "      <td>Gaia Italian Cafe</td>\n",
       "      <td>Italian</td>\n",
       "      <td>8.78</td>\n",
       "      <td>Weekend</td>\n",
       "      <td>Not given</td>\n",
       "      <td>25</td>\n",
       "      <td>15</td>\n",
       "    </tr>\n",
       "  </tbody>\n",
       "</table>\n",
       "</div>"
      ],
      "text/plain": [
       "     order_id  customer_id    restaurant_name   cuisine_type  \\\n",
       "570   1478135       276431  The Meatball Shop        Italian   \n",
       "571   1477254        58898  Blue Ribbon Sushi       Japanese   \n",
       "572   1477705        60397  Jack's Wife Freda  Mediterranean   \n",
       "573   1477814        62359              Pylos  Mediterranean   \n",
       "574   1478059        53947  Gaia Italian Cafe        Italian   \n",
       "\n",
       "     cost_of_the_order day_of_the_week     rating  food_preparation_time  \\\n",
       "570              14.02         Weekday          5                     20   \n",
       "571               8.10         Weekend          5                     35   \n",
       "572              12.18         Weekend          3                     33   \n",
       "573              35.41         Weekday          4                     21   \n",
       "574               8.78         Weekend  Not given                     25   \n",
       "\n",
       "     delivery_time  \n",
       "570             27  \n",
       "571             18  \n",
       "572             23  \n",
       "573             29  \n",
       "574             15  "
      ]
     },
     "execution_count": 182,
     "metadata": {},
     "output_type": "execute_result"
    }
   ],
   "source": [
    "df.iloc[570:575]"
   ]
  },
  {
   "cell_type": "markdown",
   "id": "49aaff81",
   "metadata": {},
   "source": [
    "#### Observations:\n",
    "* Customer ID 62359 placed the single order with maximum cost value of 35.41 dollars. \n",
    "* The order was placed at Pylos mediterranean restaurant that was prepared in 21 minutes and deliverd in 29 minutes. \n",
    "* The customer provided a rating of 4 for this order. "
   ]
  },
  {
   "cell_type": "markdown",
   "id": "2926e336",
   "metadata": {},
   "source": [
    "### Multivariate Analysis"
   ]
  },
  {
   "cell_type": "markdown",
   "id": "89908fc3",
   "metadata": {},
   "source": [
    "### Question 12: Perform bivariate/multivariate analysis to explore relationships between the important variables in the dataset. (7 marks)"
   ]
  },
  {
   "cell_type": "code",
   "execution_count": 183,
   "id": "38575f86",
   "metadata": {},
   "outputs": [
    {
     "data": {
      "text/plain": [
       "<AxesSubplot:xlabel='food_preparation_time', ylabel='delivery_time'>"
      ]
     },
     "execution_count": 183,
     "metadata": {},
     "output_type": "execute_result"
    },
    {
     "data": {
      "image/png": "[encoded data removed]",
      "text/plain": [
       "<Figure size 432x288 with 1 Axes>"
      ]
     },
     "metadata": {
      "needs_background": "light"
     },
     "output_type": "display_data"
    }
   ],
   "source": [
    "# We shall see how food preparation time and varied with delivery time.\n",
    "sns.lineplot(x='food_preparation_time',y='delivery_time', data=df)\n"
   ]
  },
  {
   "cell_type": "markdown",
   "id": "d9511483",
   "metadata": {},
   "source": [
    "#### Observations:\n",
    "* It takes an average of 24 minutes to deliver for foods ranging in preparation time from 20 minutes to 35 minutes. "
   ]
  },
  {
   "cell_type": "code",
   "execution_count": 184,
   "id": "5d26fc55",
   "metadata": {},
   "outputs": [
    {
     "data": {
      "image/png": "[encoded data removed]",
      "text/plain": [
       "<Figure size 1080x360 with 1 Axes>"
      ]
     },
     "metadata": {
      "needs_background": "light"
     },
     "output_type": "display_data"
    }
   ],
   "source": [
    "plt.figure(figsize=(15,5))\n",
    "sns.barplot(data=df,x='day_of_the_week',y='delivery_time',hue='rating')\n",
    "plt.show()"
   ]
  },
  {
   "cell_type": "markdown",
   "id": "acc4acd6",
   "metadata": {},
   "source": [
    "#### Observations:\n",
    "* From the above plot, one can decifer that there are many restaurants which dont have rating.\n",
    "* One can also tell most of the restaurants which have had rating of 5, their food has been delivered within 27 minutes on a weekday and 22 minutes on a weekend,so there is not much difference in the delivery time on the weekdays and weekends."
   ]
  },
  {
   "cell_type": "code",
   "execution_count": 185,
   "id": "5e0a5720",
   "metadata": {},
   "outputs": [
    {
     "data": {
      "image/png": "[encoded data removed]",
      "text/plain": [
       "<Figure size 1080x504 with 1 Axes>"
      ]
     },
     "metadata": {
      "needs_background": "light"
     },
     "output_type": "display_data"
    }
   ],
   "source": [
    "plt.figure(figsize=(15,7))\n",
    "sns.barplot(data=df,x='food_preparation_time',y='delivery_time',hue='rating')\n",
    "plt.show()"
   ]
  },
  {
   "attachments": {},
   "cell_type": "markdown",
   "id": "1ca8f58b",
   "metadata": {},
   "source": [
    "#### Observations:\n",
    "* For rating of 3, the delivery time varied significantly within the same preparation time. For example, for preparation time of 25 minutes with rating of 3, the delivery time ranged from 22 minutes to 31 minutes. \n",
    "* It is also evident that food which have had a rating of 5 has taken less time to deliver."
   ]
  },
  {
   "cell_type": "code",
   "execution_count": 186,
   "id": "7f9fee6a",
   "metadata": {},
   "outputs": [
    {
     "data": {
      "text/plain": [
       "<AxesSubplot:xlabel='cuisine_type', ylabel='cost_of_the_order'>"
      ]
     },
     "execution_count": 186,
     "metadata": {},
     "output_type": "execute_result"
    },
    {
     "data": {
      "image/png": "[encoded data removed]",
      "text/plain": [
       "<Figure size 1296x648 with 1 Axes>"
      ]
     },
     "metadata": {
      "needs_background": "light"
     },
     "output_type": "display_data"
    }
   ],
   "source": [
    "# We will compare the columns of 'cuisine_type' and the 'cost_of_the_order' by using barplot.\n",
    "plt.figure(figsize=(18,9))\n",
    "sns.barplot(df['cuisine_type'],df['cost_of_the_order'])"
   ]
  },
  {
   "attachments": {},
   "cell_type": "markdown",
   "id": "e8581011",
   "metadata": {},
   "source": [
    "#### Observations:\n",
    "* Vietnamese is the least expensive cuisine while French cuisine is the most expensive. \n",
    "* Thai, Southern, Spanish and Middle Eastern have the second highest expensive food.\n",
    "* American, Chinese, Italian, Japanese and Mexican cuisines range the same in their cost of food.\n",
    "* We see that the IQR for Korean, Southern, Spanish and Vietnamese are high indicating that they have items in their menus which are highly priced. It also indicates that the customers have ordered less items in their order, but it has costed them more."
   ]
  },
  {
   "cell_type": "code",
   "execution_count": 187,
   "id": "410b647b",
   "metadata": {},
   "outputs": [
    {
     "data": {
      "image/png": "[encoded data removed]",
      "text/plain": [
       "<Figure size 1080x504 with 1 Axes>"
      ]
     },
     "metadata": {
      "needs_background": "light"
     },
     "output_type": "display_data"
    }
   ],
   "source": [
    "#To find out the distribution is between 2 numerical column datas and 1 categorical data.\n",
    "plt.figure(figsize=(15,7))\n",
    "sns.pointplot(x=\"delivery_time\", y=\"food_preparation_time\", hue = 'rating',  data=df)\n",
    "plt.show()"
   ]
  },
  {
   "cell_type": "markdown",
   "id": "be831f0c",
   "metadata": {},
   "source": [
    "#### Observations:\n",
    "* We can see here that some of the restaurants have multiple ratings.\n",
    "* We can deduce that the relationship of these variables are pretty unclear as some of the orders despite being prepared early and had late delivery have had high rating for it and vice versa."
   ]
  },
  {
   "cell_type": "code",
   "execution_count": 188,
   "id": "26a3600c",
   "metadata": {},
   "outputs": [
    {
     "data": {
      "text/html": [
       "<div>\n",
       "<style scoped>\n",
       "    .dataframe tbody tr th:only-of-type {\n",
       "        vertical-align: middle;\n",
       "    }\n",
       "\n",
       "    .dataframe tbody tr th {\n",
       "        vertical-align: top;\n",
       "    }\n",
       "\n",
       "    .dataframe thead th {\n",
       "        text-align: right;\n",
       "    }\n",
       "</style>\n",
       "<table border=\"1\" class=\"dataframe\">\n",
       "  <thead>\n",
       "    <tr style=\"text-align: right;\">\n",
       "      <th></th>\n",
       "      <th>order_id</th>\n",
       "      <th>customer_id</th>\n",
       "      <th>cost_of_the_order</th>\n",
       "      <th>food_preparation_time</th>\n",
       "      <th>delivery_time</th>\n",
       "    </tr>\n",
       "  </thead>\n",
       "  <tbody>\n",
       "    <tr>\n",
       "      <th>order_id</th>\n",
       "      <td>1.000000</td>\n",
       "      <td>-0.013960</td>\n",
       "      <td>0.021171</td>\n",
       "      <td>-0.007026</td>\n",
       "      <td>0.009690</td>\n",
       "    </tr>\n",
       "    <tr>\n",
       "      <th>customer_id</th>\n",
       "      <td>-0.013960</td>\n",
       "      <td>1.000000</td>\n",
       "      <td>-0.001322</td>\n",
       "      <td>-0.030330</td>\n",
       "      <td>-0.009885</td>\n",
       "    </tr>\n",
       "    <tr>\n",
       "      <th>cost_of_the_order</th>\n",
       "      <td>0.021171</td>\n",
       "      <td>-0.001322</td>\n",
       "      <td>1.000000</td>\n",
       "      <td>0.041527</td>\n",
       "      <td>-0.029949</td>\n",
       "    </tr>\n",
       "    <tr>\n",
       "      <th>food_preparation_time</th>\n",
       "      <td>-0.007026</td>\n",
       "      <td>-0.030330</td>\n",
       "      <td>0.041527</td>\n",
       "      <td>1.000000</td>\n",
       "      <td>0.011094</td>\n",
       "    </tr>\n",
       "    <tr>\n",
       "      <th>delivery_time</th>\n",
       "      <td>0.009690</td>\n",
       "      <td>-0.009885</td>\n",
       "      <td>-0.029949</td>\n",
       "      <td>0.011094</td>\n",
       "      <td>1.000000</td>\n",
       "    </tr>\n",
       "  </tbody>\n",
       "</table>\n",
       "</div>"
      ],
      "text/plain": [
       "                       order_id  customer_id  cost_of_the_order  \\\n",
       "order_id               1.000000    -0.013960           0.021171   \n",
       "customer_id           -0.013960     1.000000          -0.001322   \n",
       "cost_of_the_order      0.021171    -0.001322           1.000000   \n",
       "food_preparation_time -0.007026    -0.030330           0.041527   \n",
       "delivery_time          0.009690    -0.009885          -0.029949   \n",
       "\n",
       "                       food_preparation_time  delivery_time  \n",
       "order_id                           -0.007026       0.009690  \n",
       "customer_id                        -0.030330      -0.009885  \n",
       "cost_of_the_order                   0.041527      -0.029949  \n",
       "food_preparation_time               1.000000       0.011094  \n",
       "delivery_time                       0.011094       1.000000  "
      ]
     },
     "execution_count": 188,
     "metadata": {},
     "output_type": "execute_result"
    }
   ],
   "source": [
    "# To get a clear picture,lets try to see the correlation between the variables gives us a clear picture.\n",
    "df.corr()"
   ]
  },
  {
   "cell_type": "code",
   "execution_count": 189,
   "id": "4934e4aa",
   "metadata": {},
   "outputs": [
    {
     "data": {
      "text/plain": [
       "<AxesSubplot:>"
      ]
     },
     "execution_count": 189,
     "metadata": {},
     "output_type": "execute_result"
    },
    {
     "data": {
      "image/png": "[encoded data removed]",
      "text/plain": [
       "<Figure size 432x288 with 2 Axes>"
      ]
     },
     "metadata": {
      "needs_background": "light"
     },
     "output_type": "display_data"
    }
   ],
   "source": [
    "sns.heatmap(df.corr(), annot=True)"
   ]
  },
  {
   "cell_type": "markdown",
   "id": "37184bbd",
   "metadata": {},
   "source": [
    "### Question 13: Suppose the company wants to provide a promotional offer in the advertisement of the restaurants. The condition to get the offer is that the restaurants must have a rating count of more than 50 and the average rating should be greater than 4. Write the code to find the restaurants fulfilling the criteria to get the promotional offer. (2 marks)"
   ]
  },
  {
   "cell_type": "markdown",
   "id": "af08e7b7",
   "metadata": {},
   "source": [
    "* We realize here that 'rating' column is of object type and hence it cannot be counted.\n",
    "* So we need to convert it into 'int', before we do that we need to remove the missing values."
   ]
  },
  {
   "cell_type": "code",
   "execution_count": 190,
   "id": "d98e7358",
   "metadata": {},
   "outputs": [],
   "source": [
    "df_new = df.loc[df['rating'] != 'Not given']"
   ]
  },
  {
   "cell_type": "code",
   "execution_count": 191,
   "id": "1e84ed27",
   "metadata": {},
   "outputs": [
    {
     "data": {
      "text/plain": [
       "order_id                 1162\n",
       "customer_id              1162\n",
       "restaurant_name          1162\n",
       "cuisine_type             1162\n",
       "cost_of_the_order        1162\n",
       "day_of_the_week          1162\n",
       "rating                   1162\n",
       "food_preparation_time    1162\n",
       "delivery_time            1162\n",
       "dtype: int64"
      ]
     },
     "execution_count": 191,
     "metadata": {},
     "output_type": "execute_result"
    }
   ],
   "source": [
    "df_new['rating'] = df_new.rating.astype('int')\n",
    "df_new.count()"
   ]
  },
  {
   "cell_type": "markdown",
   "id": "34dec5f5",
   "metadata": {},
   "source": [
    "* The rows have reduced from 1898 rows to 1162 rows. So the rows which had no ratings have been removed."
   ]
  },
  {
   "cell_type": "code",
   "execution_count": 192,
   "id": "8e26daeb",
   "metadata": {},
   "outputs": [
    {
     "data": {
      "text/html": [
       "<div>\n",
       "<style scoped>\n",
       "    .dataframe tbody tr th:only-of-type {\n",
       "        vertical-align: middle;\n",
       "    }\n",
       "\n",
       "    .dataframe tbody tr th {\n",
       "        vertical-align: top;\n",
       "    }\n",
       "\n",
       "    .dataframe thead th {\n",
       "        text-align: right;\n",
       "    }\n",
       "</style>\n",
       "<table border=\"1\" class=\"dataframe\">\n",
       "  <thead>\n",
       "    <tr style=\"text-align: right;\">\n",
       "      <th></th>\n",
       "      <th>rating</th>\n",
       "    </tr>\n",
       "    <tr>\n",
       "      <th>restaurant_name</th>\n",
       "      <th></th>\n",
       "    </tr>\n",
       "  </thead>\n",
       "  <tbody>\n",
       "    <tr>\n",
       "      <th>'wichcraft</th>\n",
       "      <td>5.0</td>\n",
       "    </tr>\n",
       "    <tr>\n",
       "      <th>12 Chairs</th>\n",
       "      <td>4.5</td>\n",
       "    </tr>\n",
       "    <tr>\n",
       "      <th>5 Napkin Burger</th>\n",
       "      <td>4.0</td>\n",
       "    </tr>\n",
       "    <tr>\n",
       "      <th>67 Burger</th>\n",
       "      <td>5.0</td>\n",
       "    </tr>\n",
       "    <tr>\n",
       "      <th>Alidoro</th>\n",
       "      <td>NaN</td>\n",
       "    </tr>\n",
       "  </tbody>\n",
       "</table>\n",
       "</div>"
      ],
      "text/plain": [
       "                 rating\n",
       "restaurant_name        \n",
       "'wichcraft          5.0\n",
       "12 Chairs           4.5\n",
       "5 Napkin Burger     4.0\n",
       "67 Burger           5.0\n",
       "Alidoro             NaN"
      ]
     },
     "execution_count": 192,
     "metadata": {},
     "output_type": "execute_result"
    }
   ],
   "source": [
    "#To find the mean of the restaurants as rating_mean.\n",
    "rating_mean = pd.DataFrame(df_new.groupby(['restaurant_name'])['rating'].mean())\n",
    "rating_mean.head()"
   ]
  },
  {
   "cell_type": "code",
   "execution_count": 193,
   "id": "5c6cd6ac",
   "metadata": {},
   "outputs": [
    {
     "data": {
      "text/html": [
       "<div>\n",
       "<style scoped>\n",
       "    .dataframe tbody tr th:only-of-type {\n",
       "        vertical-align: middle;\n",
       "    }\n",
       "\n",
       "    .dataframe tbody tr th {\n",
       "        vertical-align: top;\n",
       "    }\n",
       "\n",
       "    .dataframe thead th {\n",
       "        text-align: right;\n",
       "    }\n",
       "</style>\n",
       "<table border=\"1\" class=\"dataframe\">\n",
       "  <thead>\n",
       "    <tr style=\"text-align: right;\">\n",
       "      <th></th>\n",
       "      <th>restaurant_name</th>\n",
       "      <th>rating</th>\n",
       "    </tr>\n",
       "  </thead>\n",
       "  <tbody>\n",
       "    <tr>\n",
       "      <th>0</th>\n",
       "      <td>'wichcraft</td>\n",
       "      <td>5.000000</td>\n",
       "    </tr>\n",
       "    <tr>\n",
       "      <th>1</th>\n",
       "      <td>12 Chairs</td>\n",
       "      <td>4.500000</td>\n",
       "    </tr>\n",
       "    <tr>\n",
       "      <th>2</th>\n",
       "      <td>67 Burger</td>\n",
       "      <td>5.000000</td>\n",
       "    </tr>\n",
       "    <tr>\n",
       "      <th>3</th>\n",
       "      <td>Amma</td>\n",
       "      <td>4.500000</td>\n",
       "    </tr>\n",
       "    <tr>\n",
       "      <th>4</th>\n",
       "      <td>Anjappar Chettinad</td>\n",
       "      <td>5.000000</td>\n",
       "    </tr>\n",
       "    <tr>\n",
       "      <th>...</th>\n",
       "      <td>...</td>\n",
       "      <td>...</td>\n",
       "    </tr>\n",
       "    <tr>\n",
       "      <th>105</th>\n",
       "      <td>Yama 49</td>\n",
       "      <td>5.000000</td>\n",
       "    </tr>\n",
       "    <tr>\n",
       "      <th>106</th>\n",
       "      <td>Yama Japanese Restaurant</td>\n",
       "      <td>4.500000</td>\n",
       "    </tr>\n",
       "    <tr>\n",
       "      <th>107</th>\n",
       "      <td>da Umberto</td>\n",
       "      <td>5.000000</td>\n",
       "    </tr>\n",
       "    <tr>\n",
       "      <th>108</th>\n",
       "      <td>ilili Restaurant</td>\n",
       "      <td>4.153846</td>\n",
       "    </tr>\n",
       "    <tr>\n",
       "      <th>109</th>\n",
       "      <td>indikitch</td>\n",
       "      <td>4.500000</td>\n",
       "    </tr>\n",
       "  </tbody>\n",
       "</table>\n",
       "<p>110 rows × 2 columns</p>\n",
       "</div>"
      ],
      "text/plain": [
       "              restaurant_name    rating\n",
       "0                  'wichcraft  5.000000\n",
       "1                   12 Chairs  4.500000\n",
       "2                   67 Burger  5.000000\n",
       "3                        Amma  4.500000\n",
       "4          Anjappar Chettinad  5.000000\n",
       "..                        ...       ...\n",
       "105                   Yama 49  5.000000\n",
       "106  Yama Japanese Restaurant  4.500000\n",
       "107                da Umberto  5.000000\n",
       "108          ilili Restaurant  4.153846\n",
       "109                 indikitch  4.500000\n",
       "\n",
       "[110 rows x 2 columns]"
      ]
     },
     "execution_count": 193,
     "metadata": {},
     "output_type": "execute_result"
    }
   ],
   "source": [
    "# To find out the rating of the restaurants which have a rating of 4 and above.\n",
    "rating_4_above = rating_mean.loc[rating_mean['rating']>4].reset_index()\n",
    "rating_4_above"
   ]
  },
  {
   "cell_type": "code",
   "execution_count": 194,
   "id": "40382b1a",
   "metadata": {},
   "outputs": [
    {
     "data": {
      "text/html": [
       "<div>\n",
       "<style scoped>\n",
       "    .dataframe tbody tr th:only-of-type {\n",
       "        vertical-align: middle;\n",
       "    }\n",
       "\n",
       "    .dataframe tbody tr th {\n",
       "        vertical-align: top;\n",
       "    }\n",
       "\n",
       "    .dataframe thead th {\n",
       "        text-align: right;\n",
       "    }\n",
       "</style>\n",
       "<table border=\"1\" class=\"dataframe\">\n",
       "  <thead>\n",
       "    <tr style=\"text-align: right;\">\n",
       "      <th></th>\n",
       "      <th>index</th>\n",
       "      <th>restaurant_name</th>\n",
       "    </tr>\n",
       "  </thead>\n",
       "  <tbody>\n",
       "    <tr>\n",
       "      <th>0</th>\n",
       "      <td>Shake Shack</td>\n",
       "      <td>133</td>\n",
       "    </tr>\n",
       "    <tr>\n",
       "      <th>1</th>\n",
       "      <td>The Meatball Shop</td>\n",
       "      <td>84</td>\n",
       "    </tr>\n",
       "    <tr>\n",
       "      <th>2</th>\n",
       "      <td>Blue Ribbon Sushi</td>\n",
       "      <td>73</td>\n",
       "    </tr>\n",
       "    <tr>\n",
       "      <th>3</th>\n",
       "      <td>Blue Ribbon Fried Chicken</td>\n",
       "      <td>64</td>\n",
       "    </tr>\n",
       "    <tr>\n",
       "      <th>4</th>\n",
       "      <td>RedFarm Broadway</td>\n",
       "      <td>41</td>\n",
       "    </tr>\n",
       "  </tbody>\n",
       "</table>\n",
       "</div>"
      ],
      "text/plain": [
       "                       index  restaurant_name\n",
       "0                Shake Shack              133\n",
       "1          The Meatball Shop               84\n",
       "2          Blue Ribbon Sushi               73\n",
       "3  Blue Ribbon Fried Chicken               64\n",
       "4           RedFarm Broadway               41"
      ]
     },
     "execution_count": 194,
     "metadata": {},
     "output_type": "execute_result"
    }
   ],
   "source": [
    "# We will form a new dataframe with restaurants.\n",
    "df_rating_count = df_new['restaurant_name'].value_counts().reset_index()\n",
    "df_rating_count.head()"
   ]
  },
  {
   "cell_type": "code",
   "execution_count": 195,
   "id": "436fe460",
   "metadata": {},
   "outputs": [
    {
     "data": {
      "text/html": [
       "<div>\n",
       "<style scoped>\n",
       "    .dataframe tbody tr th:only-of-type {\n",
       "        vertical-align: middle;\n",
       "    }\n",
       "\n",
       "    .dataframe tbody tr th {\n",
       "        vertical-align: top;\n",
       "    }\n",
       "\n",
       "    .dataframe thead th {\n",
       "        text-align: right;\n",
       "    }\n",
       "</style>\n",
       "<table border=\"1\" class=\"dataframe\">\n",
       "  <thead>\n",
       "    <tr style=\"text-align: right;\">\n",
       "      <th></th>\n",
       "      <th>index</th>\n",
       "      <th>restaurant_name</th>\n",
       "    </tr>\n",
       "  </thead>\n",
       "  <tbody>\n",
       "    <tr>\n",
       "      <th>0</th>\n",
       "      <td>Shake Shack</td>\n",
       "      <td>133</td>\n",
       "    </tr>\n",
       "    <tr>\n",
       "      <th>1</th>\n",
       "      <td>The Meatball Shop</td>\n",
       "      <td>84</td>\n",
       "    </tr>\n",
       "    <tr>\n",
       "      <th>2</th>\n",
       "      <td>Blue Ribbon Sushi</td>\n",
       "      <td>73</td>\n",
       "    </tr>\n",
       "    <tr>\n",
       "      <th>3</th>\n",
       "      <td>Blue Ribbon Fried Chicken</td>\n",
       "      <td>64</td>\n",
       "    </tr>\n",
       "  </tbody>\n",
       "</table>\n",
       "</div>"
      ],
      "text/plain": [
       "                       index  restaurant_name\n",
       "0                Shake Shack              133\n",
       "1          The Meatball Shop               84\n",
       "2          Blue Ribbon Sushi               73\n",
       "3  Blue Ribbon Fried Chicken               64"
      ]
     },
     "execution_count": 195,
     "metadata": {},
     "output_type": "execute_result"
    }
   ],
   "source": [
    "# To find the restaurants which have a rating count of more than 50.\n",
    "rating_cnt_50_above = df_rating_count.loc[df_rating_count['restaurant_name']>50]\n",
    "rating_cnt_50_above"
   ]
  },
  {
   "cell_type": "code",
   "execution_count": 196,
   "id": "bed5ca3f",
   "metadata": {},
   "outputs": [
    {
     "data": {
      "text/html": [
       "<div>\n",
       "<style scoped>\n",
       "    .dataframe tbody tr th:only-of-type {\n",
       "        vertical-align: middle;\n",
       "    }\n",
       "\n",
       "    .dataframe tbody tr th {\n",
       "        vertical-align: top;\n",
       "    }\n",
       "\n",
       "    .dataframe thead th {\n",
       "        text-align: right;\n",
       "    }\n",
       "</style>\n",
       "<table border=\"1\" class=\"dataframe\">\n",
       "  <thead>\n",
       "    <tr style=\"text-align: right;\">\n",
       "      <th></th>\n",
       "      <th>restaurant_name</th>\n",
       "      <th>rating</th>\n",
       "      <th>rating_count</th>\n",
       "    </tr>\n",
       "  </thead>\n",
       "  <tbody>\n",
       "    <tr>\n",
       "      <th>0</th>\n",
       "      <td>Blue Ribbon Fried Chicken</td>\n",
       "      <td>4.328125</td>\n",
       "      <td>64</td>\n",
       "    </tr>\n",
       "    <tr>\n",
       "      <th>1</th>\n",
       "      <td>Blue Ribbon Sushi</td>\n",
       "      <td>4.219178</td>\n",
       "      <td>73</td>\n",
       "    </tr>\n",
       "    <tr>\n",
       "      <th>2</th>\n",
       "      <td>Shake Shack</td>\n",
       "      <td>4.278195</td>\n",
       "      <td>133</td>\n",
       "    </tr>\n",
       "    <tr>\n",
       "      <th>3</th>\n",
       "      <td>The Meatball Shop</td>\n",
       "      <td>4.511905</td>\n",
       "      <td>84</td>\n",
       "    </tr>\n",
       "  </tbody>\n",
       "</table>\n",
       "</div>"
      ],
      "text/plain": [
       "             restaurant_name    rating  rating_count\n",
       "0  Blue Ribbon Fried Chicken  4.328125            64\n",
       "1          Blue Ribbon Sushi  4.219178            73\n",
       "2                Shake Shack  4.278195           133\n",
       "3          The Meatball Shop  4.511905            84"
      ]
     },
     "execution_count": 196,
     "metadata": {},
     "output_type": "execute_result"
    }
   ],
   "source": [
    "# We will form a dataframe by putting these two columns together and then merge them as inner.\n",
    "rating_cnt_50_above.columns = ['restaurant_name','rating_count']\n",
    "df_merge = rating_4_above.merge(rating_cnt_50_above, on = 'restaurant_name', how = 'inner')\n",
    "df_merge"
   ]
  },
  {
   "cell_type": "markdown",
   "id": "523fe525",
   "metadata": {},
   "source": [
    "#### Observations:\n",
    "* The company who wants to offer the promotional offer to those restaurants which have atleast a rating of 4 and a count of ratings of more than 50 are\n",
    "1. Blue Ribbon Fried Chicken.\n",
    "2. Blue Ribbon Sushi.\n",
    "3. Shake Shack.\n",
    "4. The Meatball Shop."
   ]
  },
  {
   "cell_type": "markdown",
   "id": "811e7650",
   "metadata": {},
   "source": [
    "### Question 14: Suppose the company charges the restaurant 25% on the orders having cost greater than 20 dollars and 15% on the orders having cost greater than 5 dollars. Write the code to find the net revenue generated on all the orders given in the dataset. (2 marks)"
   ]
  },
  {
   "cell_type": "code",
   "execution_count": 197,
   "id": "b4ab4979",
   "metadata": {},
   "outputs": [
    {
     "data": {
      "text/plain": [
       "31314.82"
      ]
     },
     "execution_count": 197,
     "metadata": {},
     "output_type": "execute_result"
    }
   ],
   "source": [
    "# To find the total sum of the column 'cost_of _the _order'.\n",
    "df['cost_of_the_order'].sum()"
   ]
  },
  {
   "cell_type": "code",
   "execution_count": 198,
   "id": "d1a3e5d1",
   "metadata": {},
   "outputs": [
    {
     "data": {
      "text/html": [
       "<div>\n",
       "<style scoped>\n",
       "    .dataframe tbody tr th:only-of-type {\n",
       "        vertical-align: middle;\n",
       "    }\n",
       "\n",
       "    .dataframe tbody tr th {\n",
       "        vertical-align: top;\n",
       "    }\n",
       "\n",
       "    .dataframe thead th {\n",
       "        text-align: right;\n",
       "    }\n",
       "</style>\n",
       "<table border=\"1\" class=\"dataframe\">\n",
       "  <thead>\n",
       "    <tr style=\"text-align: right;\">\n",
       "      <th></th>\n",
       "      <th>order_id</th>\n",
       "      <th>customer_id</th>\n",
       "      <th>restaurant_name</th>\n",
       "      <th>cuisine_type</th>\n",
       "      <th>cost_of_the_order</th>\n",
       "      <th>day_of_the_week</th>\n",
       "      <th>rating</th>\n",
       "      <th>food_preparation_time</th>\n",
       "      <th>delivery_time</th>\n",
       "    </tr>\n",
       "  </thead>\n",
       "  <tbody>\n",
       "    <tr>\n",
       "      <th>0</th>\n",
       "      <td>1477147</td>\n",
       "      <td>337525</td>\n",
       "      <td>Hangawi</td>\n",
       "      <td>Korean</td>\n",
       "      <td>30.75</td>\n",
       "      <td>Weekend</td>\n",
       "      <td>Not given</td>\n",
       "      <td>25</td>\n",
       "      <td>20</td>\n",
       "    </tr>\n",
       "    <tr>\n",
       "      <th>3</th>\n",
       "      <td>1477334</td>\n",
       "      <td>106968</td>\n",
       "      <td>Blue Ribbon Fried Chicken</td>\n",
       "      <td>American</td>\n",
       "      <td>29.20</td>\n",
       "      <td>Weekend</td>\n",
       "      <td>3</td>\n",
       "      <td>25</td>\n",
       "      <td>15</td>\n",
       "    </tr>\n",
       "    <tr>\n",
       "      <th>5</th>\n",
       "      <td>1477224</td>\n",
       "      <td>147468</td>\n",
       "      <td>Tamarind TriBeCa</td>\n",
       "      <td>Indian</td>\n",
       "      <td>25.22</td>\n",
       "      <td>Weekday</td>\n",
       "      <td>3</td>\n",
       "      <td>20</td>\n",
       "      <td>24</td>\n",
       "    </tr>\n",
       "    <tr>\n",
       "      <th>12</th>\n",
       "      <td>1476966</td>\n",
       "      <td>129969</td>\n",
       "      <td>Blue Ribbon Fried Chicken</td>\n",
       "      <td>American</td>\n",
       "      <td>24.30</td>\n",
       "      <td>Weekend</td>\n",
       "      <td>5</td>\n",
       "      <td>23</td>\n",
       "      <td>17</td>\n",
       "    </tr>\n",
       "    <tr>\n",
       "      <th>17</th>\n",
       "      <td>1477373</td>\n",
       "      <td>139885</td>\n",
       "      <td>Blue Ribbon Sushi Izakaya</td>\n",
       "      <td>Japanese</td>\n",
       "      <td>33.03</td>\n",
       "      <td>Weekend</td>\n",
       "      <td>Not given</td>\n",
       "      <td>21</td>\n",
       "      <td>22</td>\n",
       "    </tr>\n",
       "    <tr>\n",
       "      <th>...</th>\n",
       "      <td>...</td>\n",
       "      <td>...</td>\n",
       "      <td>...</td>\n",
       "      <td>...</td>\n",
       "      <td>...</td>\n",
       "      <td>...</td>\n",
       "      <td>...</td>\n",
       "      <td>...</td>\n",
       "      <td>...</td>\n",
       "    </tr>\n",
       "    <tr>\n",
       "      <th>1884</th>\n",
       "      <td>1477437</td>\n",
       "      <td>304993</td>\n",
       "      <td>Shake Shack</td>\n",
       "      <td>American</td>\n",
       "      <td>31.43</td>\n",
       "      <td>Weekend</td>\n",
       "      <td>3</td>\n",
       "      <td>31</td>\n",
       "      <td>24</td>\n",
       "    </tr>\n",
       "    <tr>\n",
       "      <th>1885</th>\n",
       "      <td>1477550</td>\n",
       "      <td>97324</td>\n",
       "      <td>Shake Shack</td>\n",
       "      <td>American</td>\n",
       "      <td>29.05</td>\n",
       "      <td>Weekday</td>\n",
       "      <td>4</td>\n",
       "      <td>27</td>\n",
       "      <td>29</td>\n",
       "    </tr>\n",
       "    <tr>\n",
       "      <th>1892</th>\n",
       "      <td>1477473</td>\n",
       "      <td>97838</td>\n",
       "      <td>Han Dynasty</td>\n",
       "      <td>Chinese</td>\n",
       "      <td>29.15</td>\n",
       "      <td>Weekend</td>\n",
       "      <td>Not given</td>\n",
       "      <td>29</td>\n",
       "      <td>21</td>\n",
       "    </tr>\n",
       "    <tr>\n",
       "      <th>1893</th>\n",
       "      <td>1476701</td>\n",
       "      <td>292602</td>\n",
       "      <td>Chipotle Mexican Grill $1.99 Delivery</td>\n",
       "      <td>Mexican</td>\n",
       "      <td>22.31</td>\n",
       "      <td>Weekend</td>\n",
       "      <td>5</td>\n",
       "      <td>31</td>\n",
       "      <td>17</td>\n",
       "    </tr>\n",
       "    <tr>\n",
       "      <th>1895</th>\n",
       "      <td>1477819</td>\n",
       "      <td>35309</td>\n",
       "      <td>Blue Ribbon Sushi</td>\n",
       "      <td>Japanese</td>\n",
       "      <td>25.22</td>\n",
       "      <td>Weekday</td>\n",
       "      <td>Not given</td>\n",
       "      <td>31</td>\n",
       "      <td>24</td>\n",
       "    </tr>\n",
       "  </tbody>\n",
       "</table>\n",
       "<p>555 rows × 9 columns</p>\n",
       "</div>"
      ],
      "text/plain": [
       "      order_id  customer_id                        restaurant_name  \\\n",
       "0      1477147       337525                                Hangawi   \n",
       "3      1477334       106968              Blue Ribbon Fried Chicken   \n",
       "5      1477224       147468                       Tamarind TriBeCa   \n",
       "12     1476966       129969              Blue Ribbon Fried Chicken   \n",
       "17     1477373       139885              Blue Ribbon Sushi Izakaya   \n",
       "...        ...          ...                                    ...   \n",
       "1884   1477437       304993                            Shake Shack   \n",
       "1885   1477550        97324                            Shake Shack   \n",
       "1892   1477473        97838                            Han Dynasty   \n",
       "1893   1476701       292602  Chipotle Mexican Grill $1.99 Delivery   \n",
       "1895   1477819        35309                      Blue Ribbon Sushi   \n",
       "\n",
       "     cuisine_type  cost_of_the_order day_of_the_week     rating  \\\n",
       "0          Korean              30.75         Weekend  Not given   \n",
       "3        American              29.20         Weekend          3   \n",
       "5          Indian              25.22         Weekday          3   \n",
       "12       American              24.30         Weekend          5   \n",
       "17       Japanese              33.03         Weekend  Not given   \n",
       "...           ...                ...             ...        ...   \n",
       "1884     American              31.43         Weekend          3   \n",
       "1885     American              29.05         Weekday          4   \n",
       "1892      Chinese              29.15         Weekend  Not given   \n",
       "1893      Mexican              22.31         Weekend          5   \n",
       "1895     Japanese              25.22         Weekday  Not given   \n",
       "\n",
       "      food_preparation_time  delivery_time  \n",
       "0                        25             20  \n",
       "3                        25             15  \n",
       "5                        20             24  \n",
       "12                       23             17  \n",
       "17                       21             22  \n",
       "...                     ...            ...  \n",
       "1884                     31             24  \n",
       "1885                     27             29  \n",
       "1892                     29             21  \n",
       "1893                     31             17  \n",
       "1895                     31             24  \n",
       "\n",
       "[555 rows x 9 columns]"
      ]
     },
     "execution_count": 198,
     "metadata": {},
     "output_type": "execute_result"
    }
   ],
   "source": [
    "#To create a dataframe of orders which has costed 20 dollars or more.\n",
    "df_20 = df.loc[df['cost_of_the_order']>=20]\n",
    "df_20"
   ]
  },
  {
   "cell_type": "code",
   "execution_count": 199,
   "id": "36be316c",
   "metadata": {},
   "outputs": [
    {
     "data": {
      "text/html": [
       "<div>\n",
       "<style scoped>\n",
       "    .dataframe tbody tr th:only-of-type {\n",
       "        vertical-align: middle;\n",
       "    }\n",
       "\n",
       "    .dataframe tbody tr th {\n",
       "        vertical-align: top;\n",
       "    }\n",
       "\n",
       "    .dataframe thead th {\n",
       "        text-align: right;\n",
       "    }\n",
       "</style>\n",
       "<table border=\"1\" class=\"dataframe\">\n",
       "  <thead>\n",
       "    <tr style=\"text-align: right;\">\n",
       "      <th></th>\n",
       "      <th>order_id</th>\n",
       "      <th>customer_id</th>\n",
       "      <th>restaurant_name</th>\n",
       "      <th>cuisine_type</th>\n",
       "      <th>cost_of_the_order</th>\n",
       "      <th>day_of_the_week</th>\n",
       "      <th>rating</th>\n",
       "      <th>food_preparation_time</th>\n",
       "      <th>delivery_time</th>\n",
       "      <th>Rev_25</th>\n",
       "    </tr>\n",
       "  </thead>\n",
       "  <tbody>\n",
       "    <tr>\n",
       "      <th>0</th>\n",
       "      <td>1477147</td>\n",
       "      <td>337525</td>\n",
       "      <td>Hangawi</td>\n",
       "      <td>Korean</td>\n",
       "      <td>30.75</td>\n",
       "      <td>Weekend</td>\n",
       "      <td>Not given</td>\n",
       "      <td>25</td>\n",
       "      <td>20</td>\n",
       "      <td>7.6875</td>\n",
       "    </tr>\n",
       "    <tr>\n",
       "      <th>3</th>\n",
       "      <td>1477334</td>\n",
       "      <td>106968</td>\n",
       "      <td>Blue Ribbon Fried Chicken</td>\n",
       "      <td>American</td>\n",
       "      <td>29.20</td>\n",
       "      <td>Weekend</td>\n",
       "      <td>3</td>\n",
       "      <td>25</td>\n",
       "      <td>15</td>\n",
       "      <td>7.3000</td>\n",
       "    </tr>\n",
       "    <tr>\n",
       "      <th>5</th>\n",
       "      <td>1477224</td>\n",
       "      <td>147468</td>\n",
       "      <td>Tamarind TriBeCa</td>\n",
       "      <td>Indian</td>\n",
       "      <td>25.22</td>\n",
       "      <td>Weekday</td>\n",
       "      <td>3</td>\n",
       "      <td>20</td>\n",
       "      <td>24</td>\n",
       "      <td>6.3050</td>\n",
       "    </tr>\n",
       "    <tr>\n",
       "      <th>12</th>\n",
       "      <td>1476966</td>\n",
       "      <td>129969</td>\n",
       "      <td>Blue Ribbon Fried Chicken</td>\n",
       "      <td>American</td>\n",
       "      <td>24.30</td>\n",
       "      <td>Weekend</td>\n",
       "      <td>5</td>\n",
       "      <td>23</td>\n",
       "      <td>17</td>\n",
       "      <td>6.0750</td>\n",
       "    </tr>\n",
       "    <tr>\n",
       "      <th>17</th>\n",
       "      <td>1477373</td>\n",
       "      <td>139885</td>\n",
       "      <td>Blue Ribbon Sushi Izakaya</td>\n",
       "      <td>Japanese</td>\n",
       "      <td>33.03</td>\n",
       "      <td>Weekend</td>\n",
       "      <td>Not given</td>\n",
       "      <td>21</td>\n",
       "      <td>22</td>\n",
       "      <td>8.2575</td>\n",
       "    </tr>\n",
       "    <tr>\n",
       "      <th>...</th>\n",
       "      <td>...</td>\n",
       "      <td>...</td>\n",
       "      <td>...</td>\n",
       "      <td>...</td>\n",
       "      <td>...</td>\n",
       "      <td>...</td>\n",
       "      <td>...</td>\n",
       "      <td>...</td>\n",
       "      <td>...</td>\n",
       "      <td>...</td>\n",
       "    </tr>\n",
       "    <tr>\n",
       "      <th>1884</th>\n",
       "      <td>1477437</td>\n",
       "      <td>304993</td>\n",
       "      <td>Shake Shack</td>\n",
       "      <td>American</td>\n",
       "      <td>31.43</td>\n",
       "      <td>Weekend</td>\n",
       "      <td>3</td>\n",
       "      <td>31</td>\n",
       "      <td>24</td>\n",
       "      <td>7.8575</td>\n",
       "    </tr>\n",
       "    <tr>\n",
       "      <th>1885</th>\n",
       "      <td>1477550</td>\n",
       "      <td>97324</td>\n",
       "      <td>Shake Shack</td>\n",
       "      <td>American</td>\n",
       "      <td>29.05</td>\n",
       "      <td>Weekday</td>\n",
       "      <td>4</td>\n",
       "      <td>27</td>\n",
       "      <td>29</td>\n",
       "      <td>7.2625</td>\n",
       "    </tr>\n",
       "    <tr>\n",
       "      <th>1892</th>\n",
       "      <td>1477473</td>\n",
       "      <td>97838</td>\n",
       "      <td>Han Dynasty</td>\n",
       "      <td>Chinese</td>\n",
       "      <td>29.15</td>\n",
       "      <td>Weekend</td>\n",
       "      <td>Not given</td>\n",
       "      <td>29</td>\n",
       "      <td>21</td>\n",
       "      <td>7.2875</td>\n",
       "    </tr>\n",
       "    <tr>\n",
       "      <th>1893</th>\n",
       "      <td>1476701</td>\n",
       "      <td>292602</td>\n",
       "      <td>Chipotle Mexican Grill $1.99 Delivery</td>\n",
       "      <td>Mexican</td>\n",
       "      <td>22.31</td>\n",
       "      <td>Weekend</td>\n",
       "      <td>5</td>\n",
       "      <td>31</td>\n",
       "      <td>17</td>\n",
       "      <td>5.5775</td>\n",
       "    </tr>\n",
       "    <tr>\n",
       "      <th>1895</th>\n",
       "      <td>1477819</td>\n",
       "      <td>35309</td>\n",
       "      <td>Blue Ribbon Sushi</td>\n",
       "      <td>Japanese</td>\n",
       "      <td>25.22</td>\n",
       "      <td>Weekday</td>\n",
       "      <td>Not given</td>\n",
       "      <td>31</td>\n",
       "      <td>24</td>\n",
       "      <td>6.3050</td>\n",
       "    </tr>\n",
       "  </tbody>\n",
       "</table>\n",
       "<p>555 rows × 10 columns</p>\n",
       "</div>"
      ],
      "text/plain": [
       "      order_id  customer_id                        restaurant_name  \\\n",
       "0      1477147       337525                                Hangawi   \n",
       "3      1477334       106968              Blue Ribbon Fried Chicken   \n",
       "5      1477224       147468                       Tamarind TriBeCa   \n",
       "12     1476966       129969              Blue Ribbon Fried Chicken   \n",
       "17     1477373       139885              Blue Ribbon Sushi Izakaya   \n",
       "...        ...          ...                                    ...   \n",
       "1884   1477437       304993                            Shake Shack   \n",
       "1885   1477550        97324                            Shake Shack   \n",
       "1892   1477473        97838                            Han Dynasty   \n",
       "1893   1476701       292602  Chipotle Mexican Grill $1.99 Delivery   \n",
       "1895   1477819        35309                      Blue Ribbon Sushi   \n",
       "\n",
       "     cuisine_type  cost_of_the_order day_of_the_week     rating  \\\n",
       "0          Korean              30.75         Weekend  Not given   \n",
       "3        American              29.20         Weekend          3   \n",
       "5          Indian              25.22         Weekday          3   \n",
       "12       American              24.30         Weekend          5   \n",
       "17       Japanese              33.03         Weekend  Not given   \n",
       "...           ...                ...             ...        ...   \n",
       "1884     American              31.43         Weekend          3   \n",
       "1885     American              29.05         Weekday          4   \n",
       "1892      Chinese              29.15         Weekend  Not given   \n",
       "1893      Mexican              22.31         Weekend          5   \n",
       "1895     Japanese              25.22         Weekday  Not given   \n",
       "\n",
       "      food_preparation_time  delivery_time  Rev_25  \n",
       "0                        25             20  7.6875  \n",
       "3                        25             15  7.3000  \n",
       "5                        20             24  6.3050  \n",
       "12                       23             17  6.0750  \n",
       "17                       21             22  8.2575  \n",
       "...                     ...            ...     ...  \n",
       "1884                     31             24  7.8575  \n",
       "1885                     27             29  7.2625  \n",
       "1892                     29             21  7.2875  \n",
       "1893                     31             17  5.5775  \n",
       "1895                     31             24  6.3050  \n",
       "\n",
       "[555 rows x 10 columns]"
      ]
     },
     "execution_count": 199,
     "metadata": {},
     "output_type": "execute_result"
    }
   ],
   "source": [
    "#Adding a new column to the dataframe with a 25 percent charge by the company for orders greater than 20 dollars or more.\n",
    "df_20 = df_20.assign(Rev_25=df_20['cost_of_the_order']*0.25)\n",
    "df_20"
   ]
  },
  {
   "cell_type": "code",
   "execution_count": 200,
   "id": "f3e3748b",
   "metadata": {},
   "outputs": [
    {
     "data": {
      "text/plain": [
       "3688.7275"
      ]
     },
     "execution_count": 200,
     "metadata": {},
     "output_type": "execute_result"
    }
   ],
   "source": [
    "#To find the sum of the new column\n",
    "percent_25 = df_20['Rev_25'].sum()\n",
    "percent_25"
   ]
  },
  {
   "cell_type": "code",
   "execution_count": 201,
   "id": "4660d409",
   "metadata": {},
   "outputs": [
    {
     "data": {
      "text/html": [
       "<div>\n",
       "<style scoped>\n",
       "    .dataframe tbody tr th:only-of-type {\n",
       "        vertical-align: middle;\n",
       "    }\n",
       "\n",
       "    .dataframe tbody tr th {\n",
       "        vertical-align: top;\n",
       "    }\n",
       "\n",
       "    .dataframe thead th {\n",
       "        text-align: right;\n",
       "    }\n",
       "</style>\n",
       "<table border=\"1\" class=\"dataframe\">\n",
       "  <thead>\n",
       "    <tr style=\"text-align: right;\">\n",
       "      <th></th>\n",
       "      <th>order_id</th>\n",
       "      <th>customer_id</th>\n",
       "      <th>restaurant_name</th>\n",
       "      <th>cuisine_type</th>\n",
       "      <th>cost_of_the_order</th>\n",
       "      <th>day_of_the_week</th>\n",
       "      <th>rating</th>\n",
       "      <th>food_preparation_time</th>\n",
       "      <th>delivery_time</th>\n",
       "    </tr>\n",
       "  </thead>\n",
       "  <tbody>\n",
       "    <tr>\n",
       "      <th>1</th>\n",
       "      <td>1477685</td>\n",
       "      <td>358141</td>\n",
       "      <td>Blue Ribbon Sushi Izakaya</td>\n",
       "      <td>Japanese</td>\n",
       "      <td>12.08</td>\n",
       "      <td>Weekend</td>\n",
       "      <td>Not given</td>\n",
       "      <td>25</td>\n",
       "      <td>23</td>\n",
       "    </tr>\n",
       "    <tr>\n",
       "      <th>2</th>\n",
       "      <td>1477070</td>\n",
       "      <td>66393</td>\n",
       "      <td>Cafe Habana</td>\n",
       "      <td>Mexican</td>\n",
       "      <td>12.23</td>\n",
       "      <td>Weekday</td>\n",
       "      <td>5</td>\n",
       "      <td>23</td>\n",
       "      <td>28</td>\n",
       "    </tr>\n",
       "    <tr>\n",
       "      <th>4</th>\n",
       "      <td>1478249</td>\n",
       "      <td>76942</td>\n",
       "      <td>Dirty Bird to Go</td>\n",
       "      <td>American</td>\n",
       "      <td>11.59</td>\n",
       "      <td>Weekday</td>\n",
       "      <td>4</td>\n",
       "      <td>25</td>\n",
       "      <td>24</td>\n",
       "    </tr>\n",
       "    <tr>\n",
       "      <th>6</th>\n",
       "      <td>1477894</td>\n",
       "      <td>157711</td>\n",
       "      <td>The Meatball Shop</td>\n",
       "      <td>Italian</td>\n",
       "      <td>6.07</td>\n",
       "      <td>Weekend</td>\n",
       "      <td>Not given</td>\n",
       "      <td>28</td>\n",
       "      <td>21</td>\n",
       "    </tr>\n",
       "    <tr>\n",
       "      <th>7</th>\n",
       "      <td>1477859</td>\n",
       "      <td>89574</td>\n",
       "      <td>Barbounia</td>\n",
       "      <td>Mediterranean</td>\n",
       "      <td>5.97</td>\n",
       "      <td>Weekday</td>\n",
       "      <td>3</td>\n",
       "      <td>33</td>\n",
       "      <td>30</td>\n",
       "    </tr>\n",
       "    <tr>\n",
       "      <th>...</th>\n",
       "      <td>...</td>\n",
       "      <td>...</td>\n",
       "      <td>...</td>\n",
       "      <td>...</td>\n",
       "      <td>...</td>\n",
       "      <td>...</td>\n",
       "      <td>...</td>\n",
       "      <td>...</td>\n",
       "      <td>...</td>\n",
       "    </tr>\n",
       "    <tr>\n",
       "      <th>1890</th>\n",
       "      <td>1477316</td>\n",
       "      <td>164776</td>\n",
       "      <td>TAO</td>\n",
       "      <td>Japanese</td>\n",
       "      <td>15.67</td>\n",
       "      <td>Weekend</td>\n",
       "      <td>5</td>\n",
       "      <td>20</td>\n",
       "      <td>22</td>\n",
       "    </tr>\n",
       "    <tr>\n",
       "      <th>1891</th>\n",
       "      <td>1476981</td>\n",
       "      <td>138586</td>\n",
       "      <td>Shake Shack</td>\n",
       "      <td>American</td>\n",
       "      <td>5.82</td>\n",
       "      <td>Weekend</td>\n",
       "      <td>Not given</td>\n",
       "      <td>22</td>\n",
       "      <td>28</td>\n",
       "    </tr>\n",
       "    <tr>\n",
       "      <th>1894</th>\n",
       "      <td>1477421</td>\n",
       "      <td>397537</td>\n",
       "      <td>The Smile</td>\n",
       "      <td>American</td>\n",
       "      <td>12.18</td>\n",
       "      <td>Weekend</td>\n",
       "      <td>5</td>\n",
       "      <td>31</td>\n",
       "      <td>19</td>\n",
       "    </tr>\n",
       "    <tr>\n",
       "      <th>1896</th>\n",
       "      <td>1477513</td>\n",
       "      <td>64151</td>\n",
       "      <td>Jack's Wife Freda</td>\n",
       "      <td>Mediterranean</td>\n",
       "      <td>12.18</td>\n",
       "      <td>Weekday</td>\n",
       "      <td>5</td>\n",
       "      <td>23</td>\n",
       "      <td>31</td>\n",
       "    </tr>\n",
       "    <tr>\n",
       "      <th>1897</th>\n",
       "      <td>1478056</td>\n",
       "      <td>120353</td>\n",
       "      <td>Blue Ribbon Sushi</td>\n",
       "      <td>Japanese</td>\n",
       "      <td>19.45</td>\n",
       "      <td>Weekend</td>\n",
       "      <td>Not given</td>\n",
       "      <td>28</td>\n",
       "      <td>24</td>\n",
       "    </tr>\n",
       "  </tbody>\n",
       "</table>\n",
       "<p>1343 rows × 9 columns</p>\n",
       "</div>"
      ],
      "text/plain": [
       "      order_id  customer_id            restaurant_name   cuisine_type  \\\n",
       "1      1477685       358141  Blue Ribbon Sushi Izakaya       Japanese   \n",
       "2      1477070        66393                Cafe Habana        Mexican   \n",
       "4      1478249        76942           Dirty Bird to Go       American   \n",
       "6      1477894       157711          The Meatball Shop        Italian   \n",
       "7      1477859        89574                  Barbounia  Mediterranean   \n",
       "...        ...          ...                        ...            ...   \n",
       "1890   1477316       164776                        TAO       Japanese   \n",
       "1891   1476981       138586                Shake Shack       American   \n",
       "1894   1477421       397537                  The Smile       American   \n",
       "1896   1477513        64151          Jack's Wife Freda  Mediterranean   \n",
       "1897   1478056       120353          Blue Ribbon Sushi       Japanese   \n",
       "\n",
       "      cost_of_the_order day_of_the_week     rating  food_preparation_time  \\\n",
       "1                 12.08         Weekend  Not given                     25   \n",
       "2                 12.23         Weekday          5                     23   \n",
       "4                 11.59         Weekday          4                     25   \n",
       "6                  6.07         Weekend  Not given                     28   \n",
       "7                  5.97         Weekday          3                     33   \n",
       "...                 ...             ...        ...                    ...   \n",
       "1890              15.67         Weekend          5                     20   \n",
       "1891               5.82         Weekend  Not given                     22   \n",
       "1894              12.18         Weekend          5                     31   \n",
       "1896              12.18         Weekday          5                     23   \n",
       "1897              19.45         Weekend  Not given                     28   \n",
       "\n",
       "      delivery_time  \n",
       "1                23  \n",
       "2                28  \n",
       "4                24  \n",
       "6                21  \n",
       "7                30  \n",
       "...             ...  \n",
       "1890             22  \n",
       "1891             28  \n",
       "1894             19  \n",
       "1896             31  \n",
       "1897             24  \n",
       "\n",
       "[1343 rows x 9 columns]"
      ]
     },
     "execution_count": 201,
     "metadata": {},
     "output_type": "execute_result"
    }
   ],
   "source": [
    "#To create a dataframe of orders which has costed less than 20 dollars.\n",
    "df_a = df.loc[df['cost_of_the_order']<20]\n",
    "df_a"
   ]
  },
  {
   "cell_type": "code",
   "execution_count": 202,
   "id": "325706b8",
   "metadata": {},
   "outputs": [
    {
     "data": {
      "text/html": [
       "<div>\n",
       "<style scoped>\n",
       "    .dataframe tbody tr th:only-of-type {\n",
       "        vertical-align: middle;\n",
       "    }\n",
       "\n",
       "    .dataframe tbody tr th {\n",
       "        vertical-align: top;\n",
       "    }\n",
       "\n",
       "    .dataframe thead th {\n",
       "        text-align: right;\n",
       "    }\n",
       "</style>\n",
       "<table border=\"1\" class=\"dataframe\">\n",
       "  <thead>\n",
       "    <tr style=\"text-align: right;\">\n",
       "      <th></th>\n",
       "      <th>order_id</th>\n",
       "      <th>customer_id</th>\n",
       "      <th>restaurant_name</th>\n",
       "      <th>cuisine_type</th>\n",
       "      <th>cost_of_the_order</th>\n",
       "      <th>day_of_the_week</th>\n",
       "      <th>rating</th>\n",
       "      <th>food_preparation_time</th>\n",
       "      <th>delivery_time</th>\n",
       "    </tr>\n",
       "  </thead>\n",
       "  <tbody>\n",
       "    <tr>\n",
       "      <th>1</th>\n",
       "      <td>1477685</td>\n",
       "      <td>358141</td>\n",
       "      <td>Blue Ribbon Sushi Izakaya</td>\n",
       "      <td>Japanese</td>\n",
       "      <td>12.08</td>\n",
       "      <td>Weekend</td>\n",
       "      <td>Not given</td>\n",
       "      <td>25</td>\n",
       "      <td>23</td>\n",
       "    </tr>\n",
       "    <tr>\n",
       "      <th>2</th>\n",
       "      <td>1477070</td>\n",
       "      <td>66393</td>\n",
       "      <td>Cafe Habana</td>\n",
       "      <td>Mexican</td>\n",
       "      <td>12.23</td>\n",
       "      <td>Weekday</td>\n",
       "      <td>5</td>\n",
       "      <td>23</td>\n",
       "      <td>28</td>\n",
       "    </tr>\n",
       "    <tr>\n",
       "      <th>4</th>\n",
       "      <td>1478249</td>\n",
       "      <td>76942</td>\n",
       "      <td>Dirty Bird to Go</td>\n",
       "      <td>American</td>\n",
       "      <td>11.59</td>\n",
       "      <td>Weekday</td>\n",
       "      <td>4</td>\n",
       "      <td>25</td>\n",
       "      <td>24</td>\n",
       "    </tr>\n",
       "    <tr>\n",
       "      <th>6</th>\n",
       "      <td>1477894</td>\n",
       "      <td>157711</td>\n",
       "      <td>The Meatball Shop</td>\n",
       "      <td>Italian</td>\n",
       "      <td>6.07</td>\n",
       "      <td>Weekend</td>\n",
       "      <td>Not given</td>\n",
       "      <td>28</td>\n",
       "      <td>21</td>\n",
       "    </tr>\n",
       "    <tr>\n",
       "      <th>7</th>\n",
       "      <td>1477859</td>\n",
       "      <td>89574</td>\n",
       "      <td>Barbounia</td>\n",
       "      <td>Mediterranean</td>\n",
       "      <td>5.97</td>\n",
       "      <td>Weekday</td>\n",
       "      <td>3</td>\n",
       "      <td>33</td>\n",
       "      <td>30</td>\n",
       "    </tr>\n",
       "    <tr>\n",
       "      <th>...</th>\n",
       "      <td>...</td>\n",
       "      <td>...</td>\n",
       "      <td>...</td>\n",
       "      <td>...</td>\n",
       "      <td>...</td>\n",
       "      <td>...</td>\n",
       "      <td>...</td>\n",
       "      <td>...</td>\n",
       "      <td>...</td>\n",
       "    </tr>\n",
       "    <tr>\n",
       "      <th>1890</th>\n",
       "      <td>1477316</td>\n",
       "      <td>164776</td>\n",
       "      <td>TAO</td>\n",
       "      <td>Japanese</td>\n",
       "      <td>15.67</td>\n",
       "      <td>Weekend</td>\n",
       "      <td>5</td>\n",
       "      <td>20</td>\n",
       "      <td>22</td>\n",
       "    </tr>\n",
       "    <tr>\n",
       "      <th>1891</th>\n",
       "      <td>1476981</td>\n",
       "      <td>138586</td>\n",
       "      <td>Shake Shack</td>\n",
       "      <td>American</td>\n",
       "      <td>5.82</td>\n",
       "      <td>Weekend</td>\n",
       "      <td>Not given</td>\n",
       "      <td>22</td>\n",
       "      <td>28</td>\n",
       "    </tr>\n",
       "    <tr>\n",
       "      <th>1894</th>\n",
       "      <td>1477421</td>\n",
       "      <td>397537</td>\n",
       "      <td>The Smile</td>\n",
       "      <td>American</td>\n",
       "      <td>12.18</td>\n",
       "      <td>Weekend</td>\n",
       "      <td>5</td>\n",
       "      <td>31</td>\n",
       "      <td>19</td>\n",
       "    </tr>\n",
       "    <tr>\n",
       "      <th>1896</th>\n",
       "      <td>1477513</td>\n",
       "      <td>64151</td>\n",
       "      <td>Jack's Wife Freda</td>\n",
       "      <td>Mediterranean</td>\n",
       "      <td>12.18</td>\n",
       "      <td>Weekday</td>\n",
       "      <td>5</td>\n",
       "      <td>23</td>\n",
       "      <td>31</td>\n",
       "    </tr>\n",
       "    <tr>\n",
       "      <th>1897</th>\n",
       "      <td>1478056</td>\n",
       "      <td>120353</td>\n",
       "      <td>Blue Ribbon Sushi</td>\n",
       "      <td>Japanese</td>\n",
       "      <td>19.45</td>\n",
       "      <td>Weekend</td>\n",
       "      <td>Not given</td>\n",
       "      <td>28</td>\n",
       "      <td>24</td>\n",
       "    </tr>\n",
       "  </tbody>\n",
       "</table>\n",
       "<p>1334 rows × 9 columns</p>\n",
       "</div>"
      ],
      "text/plain": [
       "      order_id  customer_id            restaurant_name   cuisine_type  \\\n",
       "1      1477685       358141  Blue Ribbon Sushi Izakaya       Japanese   \n",
       "2      1477070        66393                Cafe Habana        Mexican   \n",
       "4      1478249        76942           Dirty Bird to Go       American   \n",
       "6      1477894       157711          The Meatball Shop        Italian   \n",
       "7      1477859        89574                  Barbounia  Mediterranean   \n",
       "...        ...          ...                        ...            ...   \n",
       "1890   1477316       164776                        TAO       Japanese   \n",
       "1891   1476981       138586                Shake Shack       American   \n",
       "1894   1477421       397537                  The Smile       American   \n",
       "1896   1477513        64151          Jack's Wife Freda  Mediterranean   \n",
       "1897   1478056       120353          Blue Ribbon Sushi       Japanese   \n",
       "\n",
       "      cost_of_the_order day_of_the_week     rating  food_preparation_time  \\\n",
       "1                 12.08         Weekend  Not given                     25   \n",
       "2                 12.23         Weekday          5                     23   \n",
       "4                 11.59         Weekday          4                     25   \n",
       "6                  6.07         Weekend  Not given                     28   \n",
       "7                  5.97         Weekday          3                     33   \n",
       "...                 ...             ...        ...                    ...   \n",
       "1890              15.67         Weekend          5                     20   \n",
       "1891               5.82         Weekend  Not given                     22   \n",
       "1894              12.18         Weekend          5                     31   \n",
       "1896              12.18         Weekday          5                     23   \n",
       "1897              19.45         Weekend  Not given                     28   \n",
       "\n",
       "      delivery_time  \n",
       "1                23  \n",
       "2                28  \n",
       "4                24  \n",
       "6                21  \n",
       "7                30  \n",
       "...             ...  \n",
       "1890             22  \n",
       "1891             28  \n",
       "1894             19  \n",
       "1896             31  \n",
       "1897             24  \n",
       "\n",
       "[1334 rows x 9 columns]"
      ]
     },
     "execution_count": 202,
     "metadata": {},
     "output_type": "execute_result"
    }
   ],
   "source": [
    "#To create a dataframe of orders which has costed 5 dollars or more from the previous dataframe.\n",
    "df_15 = df_a.loc[df_a['cost_of_the_order']>5]\n",
    "df_15"
   ]
  },
  {
   "cell_type": "code",
   "execution_count": 203,
   "id": "3364ced6",
   "metadata": {},
   "outputs": [
    {
     "data": {
      "text/html": [
       "<div>\n",
       "<style scoped>\n",
       "    .dataframe tbody tr th:only-of-type {\n",
       "        vertical-align: middle;\n",
       "    }\n",
       "\n",
       "    .dataframe tbody tr th {\n",
       "        vertical-align: top;\n",
       "    }\n",
       "\n",
       "    .dataframe thead th {\n",
       "        text-align: right;\n",
       "    }\n",
       "</style>\n",
       "<table border=\"1\" class=\"dataframe\">\n",
       "  <thead>\n",
       "    <tr style=\"text-align: right;\">\n",
       "      <th></th>\n",
       "      <th>order_id</th>\n",
       "      <th>customer_id</th>\n",
       "      <th>restaurant_name</th>\n",
       "      <th>cuisine_type</th>\n",
       "      <th>cost_of_the_order</th>\n",
       "      <th>day_of_the_week</th>\n",
       "      <th>rating</th>\n",
       "      <th>food_preparation_time</th>\n",
       "      <th>delivery_time</th>\n",
       "      <th>Rev_15</th>\n",
       "    </tr>\n",
       "  </thead>\n",
       "  <tbody>\n",
       "    <tr>\n",
       "      <th>1</th>\n",
       "      <td>1477685</td>\n",
       "      <td>358141</td>\n",
       "      <td>Blue Ribbon Sushi Izakaya</td>\n",
       "      <td>Japanese</td>\n",
       "      <td>12.08</td>\n",
       "      <td>Weekend</td>\n",
       "      <td>Not given</td>\n",
       "      <td>25</td>\n",
       "      <td>23</td>\n",
       "      <td>1.8120</td>\n",
       "    </tr>\n",
       "    <tr>\n",
       "      <th>2</th>\n",
       "      <td>1477070</td>\n",
       "      <td>66393</td>\n",
       "      <td>Cafe Habana</td>\n",
       "      <td>Mexican</td>\n",
       "      <td>12.23</td>\n",
       "      <td>Weekday</td>\n",
       "      <td>5</td>\n",
       "      <td>23</td>\n",
       "      <td>28</td>\n",
       "      <td>1.8345</td>\n",
       "    </tr>\n",
       "    <tr>\n",
       "      <th>4</th>\n",
       "      <td>1478249</td>\n",
       "      <td>76942</td>\n",
       "      <td>Dirty Bird to Go</td>\n",
       "      <td>American</td>\n",
       "      <td>11.59</td>\n",
       "      <td>Weekday</td>\n",
       "      <td>4</td>\n",
       "      <td>25</td>\n",
       "      <td>24</td>\n",
       "      <td>1.7385</td>\n",
       "    </tr>\n",
       "    <tr>\n",
       "      <th>6</th>\n",
       "      <td>1477894</td>\n",
       "      <td>157711</td>\n",
       "      <td>The Meatball Shop</td>\n",
       "      <td>Italian</td>\n",
       "      <td>6.07</td>\n",
       "      <td>Weekend</td>\n",
       "      <td>Not given</td>\n",
       "      <td>28</td>\n",
       "      <td>21</td>\n",
       "      <td>0.9105</td>\n",
       "    </tr>\n",
       "    <tr>\n",
       "      <th>7</th>\n",
       "      <td>1477859</td>\n",
       "      <td>89574</td>\n",
       "      <td>Barbounia</td>\n",
       "      <td>Mediterranean</td>\n",
       "      <td>5.97</td>\n",
       "      <td>Weekday</td>\n",
       "      <td>3</td>\n",
       "      <td>33</td>\n",
       "      <td>30</td>\n",
       "      <td>0.8955</td>\n",
       "    </tr>\n",
       "    <tr>\n",
       "      <th>...</th>\n",
       "      <td>...</td>\n",
       "      <td>...</td>\n",
       "      <td>...</td>\n",
       "      <td>...</td>\n",
       "      <td>...</td>\n",
       "      <td>...</td>\n",
       "      <td>...</td>\n",
       "      <td>...</td>\n",
       "      <td>...</td>\n",
       "      <td>...</td>\n",
       "    </tr>\n",
       "    <tr>\n",
       "      <th>1890</th>\n",
       "      <td>1477316</td>\n",
       "      <td>164776</td>\n",
       "      <td>TAO</td>\n",
       "      <td>Japanese</td>\n",
       "      <td>15.67</td>\n",
       "      <td>Weekend</td>\n",
       "      <td>5</td>\n",
       "      <td>20</td>\n",
       "      <td>22</td>\n",
       "      <td>2.3505</td>\n",
       "    </tr>\n",
       "    <tr>\n",
       "      <th>1891</th>\n",
       "      <td>1476981</td>\n",
       "      <td>138586</td>\n",
       "      <td>Shake Shack</td>\n",
       "      <td>American</td>\n",
       "      <td>5.82</td>\n",
       "      <td>Weekend</td>\n",
       "      <td>Not given</td>\n",
       "      <td>22</td>\n",
       "      <td>28</td>\n",
       "      <td>0.8730</td>\n",
       "    </tr>\n",
       "    <tr>\n",
       "      <th>1894</th>\n",
       "      <td>1477421</td>\n",
       "      <td>397537</td>\n",
       "      <td>The Smile</td>\n",
       "      <td>American</td>\n",
       "      <td>12.18</td>\n",
       "      <td>Weekend</td>\n",
       "      <td>5</td>\n",
       "      <td>31</td>\n",
       "      <td>19</td>\n",
       "      <td>1.8270</td>\n",
       "    </tr>\n",
       "    <tr>\n",
       "      <th>1896</th>\n",
       "      <td>1477513</td>\n",
       "      <td>64151</td>\n",
       "      <td>Jack's Wife Freda</td>\n",
       "      <td>Mediterranean</td>\n",
       "      <td>12.18</td>\n",
       "      <td>Weekday</td>\n",
       "      <td>5</td>\n",
       "      <td>23</td>\n",
       "      <td>31</td>\n",
       "      <td>1.8270</td>\n",
       "    </tr>\n",
       "    <tr>\n",
       "      <th>1897</th>\n",
       "      <td>1478056</td>\n",
       "      <td>120353</td>\n",
       "      <td>Blue Ribbon Sushi</td>\n",
       "      <td>Japanese</td>\n",
       "      <td>19.45</td>\n",
       "      <td>Weekend</td>\n",
       "      <td>Not given</td>\n",
       "      <td>28</td>\n",
       "      <td>24</td>\n",
       "      <td>2.9175</td>\n",
       "    </tr>\n",
       "  </tbody>\n",
       "</table>\n",
       "<p>1334 rows × 10 columns</p>\n",
       "</div>"
      ],
      "text/plain": [
       "      order_id  customer_id            restaurant_name   cuisine_type  \\\n",
       "1      1477685       358141  Blue Ribbon Sushi Izakaya       Japanese   \n",
       "2      1477070        66393                Cafe Habana        Mexican   \n",
       "4      1478249        76942           Dirty Bird to Go       American   \n",
       "6      1477894       157711          The Meatball Shop        Italian   \n",
       "7      1477859        89574                  Barbounia  Mediterranean   \n",
       "...        ...          ...                        ...            ...   \n",
       "1890   1477316       164776                        TAO       Japanese   \n",
       "1891   1476981       138586                Shake Shack       American   \n",
       "1894   1477421       397537                  The Smile       American   \n",
       "1896   1477513        64151          Jack's Wife Freda  Mediterranean   \n",
       "1897   1478056       120353          Blue Ribbon Sushi       Japanese   \n",
       "\n",
       "      cost_of_the_order day_of_the_week     rating  food_preparation_time  \\\n",
       "1                 12.08         Weekend  Not given                     25   \n",
       "2                 12.23         Weekday          5                     23   \n",
       "4                 11.59         Weekday          4                     25   \n",
       "6                  6.07         Weekend  Not given                     28   \n",
       "7                  5.97         Weekday          3                     33   \n",
       "...                 ...             ...        ...                    ...   \n",
       "1890              15.67         Weekend          5                     20   \n",
       "1891               5.82         Weekend  Not given                     22   \n",
       "1894              12.18         Weekend          5                     31   \n",
       "1896              12.18         Weekday          5                     23   \n",
       "1897              19.45         Weekend  Not given                     28   \n",
       "\n",
       "      delivery_time  Rev_15  \n",
       "1                23  1.8120  \n",
       "2                28  1.8345  \n",
       "4                24  1.7385  \n",
       "6                21  0.9105  \n",
       "7                30  0.8955  \n",
       "...             ...     ...  \n",
       "1890             22  2.3505  \n",
       "1891             28  0.8730  \n",
       "1894             19  1.8270  \n",
       "1896             31  1.8270  \n",
       "1897             24  2.9175  \n",
       "\n",
       "[1334 rows x 10 columns]"
      ]
     },
     "execution_count": 203,
     "metadata": {},
     "output_type": "execute_result"
    }
   ],
   "source": [
    "#Adding a new column to the dataframe with a 15 percent charge by company for orders greater than 5 but less than 20 dollars.\n",
    "df_15 = df_15.assign(Rev_15=df_15['cost_of_the_order']*0.15)\n",
    "df_15"
   ]
  },
  {
   "cell_type": "code",
   "execution_count": 204,
   "id": "134e5e7d",
   "metadata": {},
   "outputs": [
    {
     "data": {
      "text/plain": [
       "2477.5755"
      ]
     },
     "execution_count": 204,
     "metadata": {},
     "output_type": "execute_result"
    }
   ],
   "source": [
    "#To find the sum of the new column\n",
    "percent_15 = df_15['Rev_15'].sum()\n",
    "percent_15"
   ]
  },
  {
   "cell_type": "code",
   "execution_count": 205,
   "id": "3fe3477b",
   "metadata": {},
   "outputs": [
    {
     "data": {
      "text/plain": [
       "6166.303"
      ]
     },
     "execution_count": 205,
     "metadata": {},
     "output_type": "execute_result"
    }
   ],
   "source": [
    "#The net revenue generated by the company for the conditional orders.\n",
    "percent_25 + percent_15"
   ]
  },
  {
   "cell_type": "markdown",
   "id": "f9a9d67a",
   "metadata": {},
   "source": [
    "#### Observations:\n",
    "* A total of 31314.82 dollars were made by the orders placed among the various restaurants.\n",
    "* The company made a total of 6166.303 dollars from the orders."
   ]
  },
  {
   "cell_type": "markdown",
   "id": "a07200df",
   "metadata": {},
   "source": [
    "### Question 15: Suppose the company wants to analyze the total time required to deliver the food. Write the code to find out the percentage of orders that have more than 60 minutes of total delivery time. (2 marks)\n",
    "\n",
    "Note: The total delivery time is the summation of the food preparation time and delivery time. "
   ]
  },
  {
   "cell_type": "code",
   "execution_count": 206,
   "id": "51a10d44",
   "metadata": {},
   "outputs": [
    {
     "data": {
      "text/plain": [
       "0       45\n",
       "1       48\n",
       "2       51\n",
       "3       40\n",
       "4       49\n",
       "        ..\n",
       "1893    48\n",
       "1894    50\n",
       "1895    55\n",
       "1896    54\n",
       "1897    52\n",
       "Name: prep_del, Length: 1898, dtype: int64"
      ]
     },
     "execution_count": 206,
     "metadata": {},
     "output_type": "execute_result"
    }
   ],
   "source": [
    "# Let us add the two columns of the dataframe consisting of 'food_preparation_time' and 'delivery_time' into one column.\n",
    "df['prep_del'] = df['food_preparation_time'] + df['delivery_time']\n",
    "df.prep_del"
   ]
  },
  {
   "cell_type": "code",
   "execution_count": 207,
   "id": "f9a7c2ed",
   "metadata": {},
   "outputs": [
    {
     "data": {
      "text/html": [
       "<div>\n",
       "<style scoped>\n",
       "    .dataframe tbody tr th:only-of-type {\n",
       "        vertical-align: middle;\n",
       "    }\n",
       "\n",
       "    .dataframe tbody tr th {\n",
       "        vertical-align: top;\n",
       "    }\n",
       "\n",
       "    .dataframe thead th {\n",
       "        text-align: right;\n",
       "    }\n",
       "</style>\n",
       "<table border=\"1\" class=\"dataframe\">\n",
       "  <thead>\n",
       "    <tr style=\"text-align: right;\">\n",
       "      <th></th>\n",
       "      <th>order_id</th>\n",
       "      <th>customer_id</th>\n",
       "      <th>restaurant_name</th>\n",
       "      <th>cuisine_type</th>\n",
       "      <th>cost_of_the_order</th>\n",
       "      <th>day_of_the_week</th>\n",
       "      <th>rating</th>\n",
       "      <th>food_preparation_time</th>\n",
       "      <th>delivery_time</th>\n",
       "      <th>prep_del</th>\n",
       "    </tr>\n",
       "  </thead>\n",
       "  <tbody>\n",
       "    <tr>\n",
       "      <th>7</th>\n",
       "      <td>1477859</td>\n",
       "      <td>89574</td>\n",
       "      <td>Barbounia</td>\n",
       "      <td>Mediterranean</td>\n",
       "      <td>5.97</td>\n",
       "      <td>Weekday</td>\n",
       "      <td>3</td>\n",
       "      <td>33</td>\n",
       "      <td>30</td>\n",
       "      <td>63</td>\n",
       "    </tr>\n",
       "    <tr>\n",
       "      <th>10</th>\n",
       "      <td>1477895</td>\n",
       "      <td>143926</td>\n",
       "      <td>Big Wong Restaurant _¤¾Ñ¼</td>\n",
       "      <td>Chinese</td>\n",
       "      <td>5.92</td>\n",
       "      <td>Weekday</td>\n",
       "      <td>Not given</td>\n",
       "      <td>34</td>\n",
       "      <td>28</td>\n",
       "      <td>62</td>\n",
       "    </tr>\n",
       "    <tr>\n",
       "      <th>19</th>\n",
       "      <td>1477354</td>\n",
       "      <td>67487</td>\n",
       "      <td>Blue Ribbon Sushi</td>\n",
       "      <td>Japanese</td>\n",
       "      <td>16.20</td>\n",
       "      <td>Weekend</td>\n",
       "      <td>4</td>\n",
       "      <td>35</td>\n",
       "      <td>26</td>\n",
       "      <td>61</td>\n",
       "    </tr>\n",
       "    <tr>\n",
       "      <th>24</th>\n",
       "      <td>1476714</td>\n",
       "      <td>363783</td>\n",
       "      <td>Cafe Mogador</td>\n",
       "      <td>Middle Eastern</td>\n",
       "      <td>15.86</td>\n",
       "      <td>Weekday</td>\n",
       "      <td>Not given</td>\n",
       "      <td>32</td>\n",
       "      <td>29</td>\n",
       "      <td>61</td>\n",
       "    </tr>\n",
       "    <tr>\n",
       "      <th>54</th>\n",
       "      <td>1477760</td>\n",
       "      <td>130507</td>\n",
       "      <td>Jack's Wife Freda</td>\n",
       "      <td>Mediterranean</td>\n",
       "      <td>22.75</td>\n",
       "      <td>Weekend</td>\n",
       "      <td>3</td>\n",
       "      <td>35</td>\n",
       "      <td>29</td>\n",
       "      <td>64</td>\n",
       "    </tr>\n",
       "    <tr>\n",
       "      <th>...</th>\n",
       "      <td>...</td>\n",
       "      <td>...</td>\n",
       "      <td>...</td>\n",
       "      <td>...</td>\n",
       "      <td>...</td>\n",
       "      <td>...</td>\n",
       "      <td>...</td>\n",
       "      <td>...</td>\n",
       "      <td>...</td>\n",
       "      <td>...</td>\n",
       "    </tr>\n",
       "    <tr>\n",
       "      <th>1869</th>\n",
       "      <td>1476923</td>\n",
       "      <td>50199</td>\n",
       "      <td>J. G. Melon</td>\n",
       "      <td>American</td>\n",
       "      <td>19.40</td>\n",
       "      <td>Weekday</td>\n",
       "      <td>4</td>\n",
       "      <td>35</td>\n",
       "      <td>26</td>\n",
       "      <td>61</td>\n",
       "    </tr>\n",
       "    <tr>\n",
       "      <th>1873</th>\n",
       "      <td>1478148</td>\n",
       "      <td>261371</td>\n",
       "      <td>Shake Shack</td>\n",
       "      <td>American</td>\n",
       "      <td>22.31</td>\n",
       "      <td>Weekend</td>\n",
       "      <td>Not given</td>\n",
       "      <td>35</td>\n",
       "      <td>28</td>\n",
       "      <td>63</td>\n",
       "    </tr>\n",
       "    <tr>\n",
       "      <th>1875</th>\n",
       "      <td>1478039</td>\n",
       "      <td>292343</td>\n",
       "      <td>Amy Ruth's</td>\n",
       "      <td>Southern</td>\n",
       "      <td>12.23</td>\n",
       "      <td>Weekday</td>\n",
       "      <td>Not given</td>\n",
       "      <td>32</td>\n",
       "      <td>33</td>\n",
       "      <td>65</td>\n",
       "    </tr>\n",
       "    <tr>\n",
       "      <th>1880</th>\n",
       "      <td>1477466</td>\n",
       "      <td>222734</td>\n",
       "      <td>Shake Shack</td>\n",
       "      <td>American</td>\n",
       "      <td>13.97</td>\n",
       "      <td>Weekend</td>\n",
       "      <td>5</td>\n",
       "      <td>35</td>\n",
       "      <td>27</td>\n",
       "      <td>62</td>\n",
       "    </tr>\n",
       "    <tr>\n",
       "      <th>1889</th>\n",
       "      <td>1478190</td>\n",
       "      <td>94152</td>\n",
       "      <td>RedFarm Broadway</td>\n",
       "      <td>Chinese</td>\n",
       "      <td>8.68</td>\n",
       "      <td>Weekday</td>\n",
       "      <td>3</td>\n",
       "      <td>33</td>\n",
       "      <td>30</td>\n",
       "      <td>63</td>\n",
       "    </tr>\n",
       "  </tbody>\n",
       "</table>\n",
       "<p>200 rows × 10 columns</p>\n",
       "</div>"
      ],
      "text/plain": [
       "      order_id  customer_id             restaurant_name    cuisine_type  \\\n",
       "7      1477859        89574                   Barbounia   Mediterranean   \n",
       "10     1477895       143926  Big Wong Restaurant _¤¾Ñ¼         Chinese   \n",
       "19     1477354        67487           Blue Ribbon Sushi        Japanese   \n",
       "24     1476714       363783                Cafe Mogador  Middle Eastern   \n",
       "54     1477760       130507           Jack's Wife Freda   Mediterranean   \n",
       "...        ...          ...                         ...             ...   \n",
       "1869   1476923        50199                 J. G. Melon        American   \n",
       "1873   1478148       261371                 Shake Shack        American   \n",
       "1875   1478039       292343                  Amy Ruth's        Southern   \n",
       "1880   1477466       222734                 Shake Shack        American   \n",
       "1889   1478190        94152            RedFarm Broadway         Chinese   \n",
       "\n",
       "      cost_of_the_order day_of_the_week     rating  food_preparation_time  \\\n",
       "7                  5.97         Weekday          3                     33   \n",
       "10                 5.92         Weekday  Not given                     34   \n",
       "19                16.20         Weekend          4                     35   \n",
       "24                15.86         Weekday  Not given                     32   \n",
       "54                22.75         Weekend          3                     35   \n",
       "...                 ...             ...        ...                    ...   \n",
       "1869              19.40         Weekday          4                     35   \n",
       "1873              22.31         Weekend  Not given                     35   \n",
       "1875              12.23         Weekday  Not given                     32   \n",
       "1880              13.97         Weekend          5                     35   \n",
       "1889               8.68         Weekday          3                     33   \n",
       "\n",
       "      delivery_time  prep_del  \n",
       "7                30        63  \n",
       "10               28        62  \n",
       "19               26        61  \n",
       "24               29        61  \n",
       "54               29        64  \n",
       "...             ...       ...  \n",
       "1869             26        61  \n",
       "1873             28        63  \n",
       "1875             33        65  \n",
       "1880             27        62  \n",
       "1889             30        63  \n",
       "\n",
       "[200 rows x 10 columns]"
      ]
     },
     "execution_count": 207,
     "metadata": {},
     "output_type": "execute_result"
    }
   ],
   "source": [
    "# To find out how many orders have more than 60 minutes of total delivery time.\n",
    "df.loc[df.prep_del>60]"
   ]
  },
  {
   "cell_type": "code",
   "execution_count": 208,
   "id": "2b0af465",
   "metadata": {},
   "outputs": [
    {
     "data": {
      "text/plain": [
       "10.537407797681771"
      ]
     },
     "execution_count": 208,
     "metadata": {},
     "output_type": "execute_result"
    }
   ],
   "source": [
    "200/1898*100"
   ]
  },
  {
   "cell_type": "markdown",
   "id": "c69a0ae2",
   "metadata": {},
   "source": [
    "#### Observations:\n",
    "* There are 200 orders that have had a total delivery time of more than 60 minutes.\n",
    "* 10.537% of the orders have total delivery time of more than 60 minutes. "
   ]
  },
  {
   "cell_type": "markdown",
   "id": "2a45a12c",
   "metadata": {},
   "source": [
    "### Question 16: Suppose the company wants to analyze the delivery time of the orders on weekdays and weekends. Write the code to find the mean delivery time on weekdays and weekends. Write your observations on the results. (2 marks)"
   ]
  },
  {
   "cell_type": "code",
   "execution_count": 209,
   "id": "4cfdd452",
   "metadata": {},
   "outputs": [
    {
     "data": {
      "text/plain": [
       "Weekend    1351\n",
       "Weekday     547\n",
       "Name: day_of_the_week, dtype: int64"
      ]
     },
     "execution_count": 209,
     "metadata": {},
     "output_type": "execute_result"
    }
   ],
   "source": [
    "# To find out how many orders are there on weekends and weekdays.\n",
    "df['day_of_the_week'].value_counts()"
   ]
  },
  {
   "cell_type": "code",
   "execution_count": 210,
   "id": "8ebc804c",
   "metadata": {},
   "outputs": [
    {
     "data": {
      "text/html": [
       "<div>\n",
       "<style scoped>\n",
       "    .dataframe tbody tr th:only-of-type {\n",
       "        vertical-align: middle;\n",
       "    }\n",
       "\n",
       "    .dataframe tbody tr th {\n",
       "        vertical-align: top;\n",
       "    }\n",
       "\n",
       "    .dataframe thead th {\n",
       "        text-align: right;\n",
       "    }\n",
       "</style>\n",
       "<table border=\"1\" class=\"dataframe\">\n",
       "  <thead>\n",
       "    <tr style=\"text-align: right;\">\n",
       "      <th></th>\n",
       "      <th>order_id</th>\n",
       "      <th>customer_id</th>\n",
       "      <th>restaurant_name</th>\n",
       "      <th>cuisine_type</th>\n",
       "      <th>cost_of_the_order</th>\n",
       "      <th>day_of_the_week</th>\n",
       "      <th>rating</th>\n",
       "      <th>food_preparation_time</th>\n",
       "      <th>delivery_time</th>\n",
       "      <th>prep_del</th>\n",
       "    </tr>\n",
       "  </thead>\n",
       "  <tbody>\n",
       "    <tr>\n",
       "      <th>2</th>\n",
       "      <td>1477070</td>\n",
       "      <td>66393</td>\n",
       "      <td>Cafe Habana</td>\n",
       "      <td>Mexican</td>\n",
       "      <td>12.23</td>\n",
       "      <td>Weekday</td>\n",
       "      <td>5</td>\n",
       "      <td>23</td>\n",
       "      <td>28</td>\n",
       "      <td>51</td>\n",
       "    </tr>\n",
       "    <tr>\n",
       "      <th>4</th>\n",
       "      <td>1478249</td>\n",
       "      <td>76942</td>\n",
       "      <td>Dirty Bird to Go</td>\n",
       "      <td>American</td>\n",
       "      <td>11.59</td>\n",
       "      <td>Weekday</td>\n",
       "      <td>4</td>\n",
       "      <td>25</td>\n",
       "      <td>24</td>\n",
       "      <td>49</td>\n",
       "    </tr>\n",
       "    <tr>\n",
       "      <th>5</th>\n",
       "      <td>1477224</td>\n",
       "      <td>147468</td>\n",
       "      <td>Tamarind TriBeCa</td>\n",
       "      <td>Indian</td>\n",
       "      <td>25.22</td>\n",
       "      <td>Weekday</td>\n",
       "      <td>3</td>\n",
       "      <td>20</td>\n",
       "      <td>24</td>\n",
       "      <td>44</td>\n",
       "    </tr>\n",
       "    <tr>\n",
       "      <th>7</th>\n",
       "      <td>1477859</td>\n",
       "      <td>89574</td>\n",
       "      <td>Barbounia</td>\n",
       "      <td>Mediterranean</td>\n",
       "      <td>5.97</td>\n",
       "      <td>Weekday</td>\n",
       "      <td>3</td>\n",
       "      <td>33</td>\n",
       "      <td>30</td>\n",
       "      <td>63</td>\n",
       "    </tr>\n",
       "    <tr>\n",
       "      <th>8</th>\n",
       "      <td>1477174</td>\n",
       "      <td>121706</td>\n",
       "      <td>Anjappar Chettinad</td>\n",
       "      <td>Indian</td>\n",
       "      <td>16.44</td>\n",
       "      <td>Weekday</td>\n",
       "      <td>5</td>\n",
       "      <td>21</td>\n",
       "      <td>26</td>\n",
       "      <td>47</td>\n",
       "    </tr>\n",
       "    <tr>\n",
       "      <th>...</th>\n",
       "      <td>...</td>\n",
       "      <td>...</td>\n",
       "      <td>...</td>\n",
       "      <td>...</td>\n",
       "      <td>...</td>\n",
       "      <td>...</td>\n",
       "      <td>...</td>\n",
       "      <td>...</td>\n",
       "      <td>...</td>\n",
       "      <td>...</td>\n",
       "    </tr>\n",
       "    <tr>\n",
       "      <th>1878</th>\n",
       "      <td>1477194</td>\n",
       "      <td>62540</td>\n",
       "      <td>Blue Ribbon Sushi</td>\n",
       "      <td>Japanese</td>\n",
       "      <td>5.92</td>\n",
       "      <td>Weekday</td>\n",
       "      <td>Not given</td>\n",
       "      <td>27</td>\n",
       "      <td>31</td>\n",
       "      <td>58</td>\n",
       "    </tr>\n",
       "    <tr>\n",
       "      <th>1885</th>\n",
       "      <td>1477550</td>\n",
       "      <td>97324</td>\n",
       "      <td>Shake Shack</td>\n",
       "      <td>American</td>\n",
       "      <td>29.05</td>\n",
       "      <td>Weekday</td>\n",
       "      <td>4</td>\n",
       "      <td>27</td>\n",
       "      <td>29</td>\n",
       "      <td>56</td>\n",
       "    </tr>\n",
       "    <tr>\n",
       "      <th>1889</th>\n",
       "      <td>1478190</td>\n",
       "      <td>94152</td>\n",
       "      <td>RedFarm Broadway</td>\n",
       "      <td>Chinese</td>\n",
       "      <td>8.68</td>\n",
       "      <td>Weekday</td>\n",
       "      <td>3</td>\n",
       "      <td>33</td>\n",
       "      <td>30</td>\n",
       "      <td>63</td>\n",
       "    </tr>\n",
       "    <tr>\n",
       "      <th>1895</th>\n",
       "      <td>1477819</td>\n",
       "      <td>35309</td>\n",
       "      <td>Blue Ribbon Sushi</td>\n",
       "      <td>Japanese</td>\n",
       "      <td>25.22</td>\n",
       "      <td>Weekday</td>\n",
       "      <td>Not given</td>\n",
       "      <td>31</td>\n",
       "      <td>24</td>\n",
       "      <td>55</td>\n",
       "    </tr>\n",
       "    <tr>\n",
       "      <th>1896</th>\n",
       "      <td>1477513</td>\n",
       "      <td>64151</td>\n",
       "      <td>Jack's Wife Freda</td>\n",
       "      <td>Mediterranean</td>\n",
       "      <td>12.18</td>\n",
       "      <td>Weekday</td>\n",
       "      <td>5</td>\n",
       "      <td>23</td>\n",
       "      <td>31</td>\n",
       "      <td>54</td>\n",
       "    </tr>\n",
       "  </tbody>\n",
       "</table>\n",
       "<p>547 rows × 10 columns</p>\n",
       "</div>"
      ],
      "text/plain": [
       "      order_id  customer_id     restaurant_name   cuisine_type  \\\n",
       "2      1477070        66393         Cafe Habana        Mexican   \n",
       "4      1478249        76942    Dirty Bird to Go       American   \n",
       "5      1477224       147468    Tamarind TriBeCa         Indian   \n",
       "7      1477859        89574           Barbounia  Mediterranean   \n",
       "8      1477174       121706  Anjappar Chettinad         Indian   \n",
       "...        ...          ...                 ...            ...   \n",
       "1878   1477194        62540   Blue Ribbon Sushi       Japanese   \n",
       "1885   1477550        97324         Shake Shack       American   \n",
       "1889   1478190        94152    RedFarm Broadway        Chinese   \n",
       "1895   1477819        35309   Blue Ribbon Sushi       Japanese   \n",
       "1896   1477513        64151   Jack's Wife Freda  Mediterranean   \n",
       "\n",
       "      cost_of_the_order day_of_the_week     rating  food_preparation_time  \\\n",
       "2                 12.23         Weekday          5                     23   \n",
       "4                 11.59         Weekday          4                     25   \n",
       "5                 25.22         Weekday          3                     20   \n",
       "7                  5.97         Weekday          3                     33   \n",
       "8                 16.44         Weekday          5                     21   \n",
       "...                 ...             ...        ...                    ...   \n",
       "1878               5.92         Weekday  Not given                     27   \n",
       "1885              29.05         Weekday          4                     27   \n",
       "1889               8.68         Weekday          3                     33   \n",
       "1895              25.22         Weekday  Not given                     31   \n",
       "1896              12.18         Weekday          5                     23   \n",
       "\n",
       "      delivery_time  prep_del  \n",
       "2                28        51  \n",
       "4                24        49  \n",
       "5                24        44  \n",
       "7                30        63  \n",
       "8                26        47  \n",
       "...             ...       ...  \n",
       "1878             31        58  \n",
       "1885             29        56  \n",
       "1889             30        63  \n",
       "1895             24        55  \n",
       "1896             31        54  \n",
       "\n",
       "[547 rows x 10 columns]"
      ]
     },
     "execution_count": 210,
     "metadata": {},
     "output_type": "execute_result"
    }
   ],
   "source": [
    "# To extract the orders placed on the weekends and weekdays as new dataframe.\n",
    "df_wd = df.loc[df['day_of_the_week'] == 'Weekday']\n",
    "df_wd"
   ]
  },
  {
   "cell_type": "code",
   "execution_count": 211,
   "id": "858f4067",
   "metadata": {},
   "outputs": [
    {
     "data": {
      "text/html": [
       "<div>\n",
       "<style scoped>\n",
       "    .dataframe tbody tr th:only-of-type {\n",
       "        vertical-align: middle;\n",
       "    }\n",
       "\n",
       "    .dataframe tbody tr th {\n",
       "        vertical-align: top;\n",
       "    }\n",
       "\n",
       "    .dataframe thead th {\n",
       "        text-align: right;\n",
       "    }\n",
       "</style>\n",
       "<table border=\"1\" class=\"dataframe\">\n",
       "  <thead>\n",
       "    <tr style=\"text-align: right;\">\n",
       "      <th></th>\n",
       "      <th>order_id</th>\n",
       "      <th>customer_id</th>\n",
       "      <th>restaurant_name</th>\n",
       "      <th>cuisine_type</th>\n",
       "      <th>cost_of_the_order</th>\n",
       "      <th>day_of_the_week</th>\n",
       "      <th>rating</th>\n",
       "      <th>food_preparation_time</th>\n",
       "      <th>delivery_time</th>\n",
       "      <th>prep_del</th>\n",
       "    </tr>\n",
       "  </thead>\n",
       "  <tbody>\n",
       "    <tr>\n",
       "      <th>0</th>\n",
       "      <td>1477147</td>\n",
       "      <td>337525</td>\n",
       "      <td>Hangawi</td>\n",
       "      <td>Korean</td>\n",
       "      <td>30.75</td>\n",
       "      <td>Weekend</td>\n",
       "      <td>Not given</td>\n",
       "      <td>25</td>\n",
       "      <td>20</td>\n",
       "      <td>45</td>\n",
       "    </tr>\n",
       "    <tr>\n",
       "      <th>1</th>\n",
       "      <td>1477685</td>\n",
       "      <td>358141</td>\n",
       "      <td>Blue Ribbon Sushi Izakaya</td>\n",
       "      <td>Japanese</td>\n",
       "      <td>12.08</td>\n",
       "      <td>Weekend</td>\n",
       "      <td>Not given</td>\n",
       "      <td>25</td>\n",
       "      <td>23</td>\n",
       "      <td>48</td>\n",
       "    </tr>\n",
       "    <tr>\n",
       "      <th>3</th>\n",
       "      <td>1477334</td>\n",
       "      <td>106968</td>\n",
       "      <td>Blue Ribbon Fried Chicken</td>\n",
       "      <td>American</td>\n",
       "      <td>29.20</td>\n",
       "      <td>Weekend</td>\n",
       "      <td>3</td>\n",
       "      <td>25</td>\n",
       "      <td>15</td>\n",
       "      <td>40</td>\n",
       "    </tr>\n",
       "    <tr>\n",
       "      <th>6</th>\n",
       "      <td>1477894</td>\n",
       "      <td>157711</td>\n",
       "      <td>The Meatball Shop</td>\n",
       "      <td>Italian</td>\n",
       "      <td>6.07</td>\n",
       "      <td>Weekend</td>\n",
       "      <td>Not given</td>\n",
       "      <td>28</td>\n",
       "      <td>21</td>\n",
       "      <td>49</td>\n",
       "    </tr>\n",
       "    <tr>\n",
       "      <th>11</th>\n",
       "      <td>1478437</td>\n",
       "      <td>221206</td>\n",
       "      <td>Empanada Mama (closed)</td>\n",
       "      <td>Mexican</td>\n",
       "      <td>8.10</td>\n",
       "      <td>Weekend</td>\n",
       "      <td>5</td>\n",
       "      <td>23</td>\n",
       "      <td>22</td>\n",
       "      <td>45</td>\n",
       "    </tr>\n",
       "    <tr>\n",
       "      <th>...</th>\n",
       "      <td>...</td>\n",
       "      <td>...</td>\n",
       "      <td>...</td>\n",
       "      <td>...</td>\n",
       "      <td>...</td>\n",
       "      <td>...</td>\n",
       "      <td>...</td>\n",
       "      <td>...</td>\n",
       "      <td>...</td>\n",
       "      <td>...</td>\n",
       "    </tr>\n",
       "    <tr>\n",
       "      <th>1891</th>\n",
       "      <td>1476981</td>\n",
       "      <td>138586</td>\n",
       "      <td>Shake Shack</td>\n",
       "      <td>American</td>\n",
       "      <td>5.82</td>\n",
       "      <td>Weekend</td>\n",
       "      <td>Not given</td>\n",
       "      <td>22</td>\n",
       "      <td>28</td>\n",
       "      <td>50</td>\n",
       "    </tr>\n",
       "    <tr>\n",
       "      <th>1892</th>\n",
       "      <td>1477473</td>\n",
       "      <td>97838</td>\n",
       "      <td>Han Dynasty</td>\n",
       "      <td>Chinese</td>\n",
       "      <td>29.15</td>\n",
       "      <td>Weekend</td>\n",
       "      <td>Not given</td>\n",
       "      <td>29</td>\n",
       "      <td>21</td>\n",
       "      <td>50</td>\n",
       "    </tr>\n",
       "    <tr>\n",
       "      <th>1893</th>\n",
       "      <td>1476701</td>\n",
       "      <td>292602</td>\n",
       "      <td>Chipotle Mexican Grill $1.99 Delivery</td>\n",
       "      <td>Mexican</td>\n",
       "      <td>22.31</td>\n",
       "      <td>Weekend</td>\n",
       "      <td>5</td>\n",
       "      <td>31</td>\n",
       "      <td>17</td>\n",
       "      <td>48</td>\n",
       "    </tr>\n",
       "    <tr>\n",
       "      <th>1894</th>\n",
       "      <td>1477421</td>\n",
       "      <td>397537</td>\n",
       "      <td>The Smile</td>\n",
       "      <td>American</td>\n",
       "      <td>12.18</td>\n",
       "      <td>Weekend</td>\n",
       "      <td>5</td>\n",
       "      <td>31</td>\n",
       "      <td>19</td>\n",
       "      <td>50</td>\n",
       "    </tr>\n",
       "    <tr>\n",
       "      <th>1897</th>\n",
       "      <td>1478056</td>\n",
       "      <td>120353</td>\n",
       "      <td>Blue Ribbon Sushi</td>\n",
       "      <td>Japanese</td>\n",
       "      <td>19.45</td>\n",
       "      <td>Weekend</td>\n",
       "      <td>Not given</td>\n",
       "      <td>28</td>\n",
       "      <td>24</td>\n",
       "      <td>52</td>\n",
       "    </tr>\n",
       "  </tbody>\n",
       "</table>\n",
       "<p>1351 rows × 10 columns</p>\n",
       "</div>"
      ],
      "text/plain": [
       "      order_id  customer_id                        restaurant_name  \\\n",
       "0      1477147       337525                                Hangawi   \n",
       "1      1477685       358141              Blue Ribbon Sushi Izakaya   \n",
       "3      1477334       106968              Blue Ribbon Fried Chicken   \n",
       "6      1477894       157711                      The Meatball Shop   \n",
       "11     1478437       221206                 Empanada Mama (closed)   \n",
       "...        ...          ...                                    ...   \n",
       "1891   1476981       138586                            Shake Shack   \n",
       "1892   1477473        97838                            Han Dynasty   \n",
       "1893   1476701       292602  Chipotle Mexican Grill $1.99 Delivery   \n",
       "1894   1477421       397537                              The Smile   \n",
       "1897   1478056       120353                      Blue Ribbon Sushi   \n",
       "\n",
       "     cuisine_type  cost_of_the_order day_of_the_week     rating  \\\n",
       "0          Korean              30.75         Weekend  Not given   \n",
       "1        Japanese              12.08         Weekend  Not given   \n",
       "3        American              29.20         Weekend          3   \n",
       "6         Italian               6.07         Weekend  Not given   \n",
       "11        Mexican               8.10         Weekend          5   \n",
       "...           ...                ...             ...        ...   \n",
       "1891     American               5.82         Weekend  Not given   \n",
       "1892      Chinese              29.15         Weekend  Not given   \n",
       "1893      Mexican              22.31         Weekend          5   \n",
       "1894     American              12.18         Weekend          5   \n",
       "1897     Japanese              19.45         Weekend  Not given   \n",
       "\n",
       "      food_preparation_time  delivery_time  prep_del  \n",
       "0                        25             20        45  \n",
       "1                        25             23        48  \n",
       "3                        25             15        40  \n",
       "6                        28             21        49  \n",
       "11                       23             22        45  \n",
       "...                     ...            ...       ...  \n",
       "1891                     22             28        50  \n",
       "1892                     29             21        50  \n",
       "1893                     31             17        48  \n",
       "1894                     31             19        50  \n",
       "1897                     28             24        52  \n",
       "\n",
       "[1351 rows x 10 columns]"
      ]
     },
     "execution_count": 211,
     "metadata": {},
     "output_type": "execute_result"
    }
   ],
   "source": [
    "df_w = df.loc[df['day_of_the_week'] == 'Weekend']\n",
    "df_w"
   ]
  },
  {
   "cell_type": "code",
   "execution_count": 212,
   "id": "a4268463",
   "metadata": {},
   "outputs": [
    {
     "data": {
      "text/plain": [
       "28.340036563071298"
      ]
     },
     "execution_count": 212,
     "metadata": {},
     "output_type": "execute_result"
    }
   ],
   "source": [
    "# To find the mean delivery time on Weekdays and Weekends.\n",
    "df_wd['delivery_time'].mean()\n"
   ]
  },
  {
   "cell_type": "code",
   "execution_count": 213,
   "id": "dd75197a",
   "metadata": {},
   "outputs": [
    {
     "data": {
      "text/plain": [
       "22.4700222057735"
      ]
     },
     "execution_count": 213,
     "metadata": {},
     "output_type": "execute_result"
    }
   ],
   "source": [
    "df_w['delivery_time'].mean()"
   ]
  },
  {
   "cell_type": "markdown",
   "id": "92904eb3",
   "metadata": {},
   "source": [
    "#### Observations:\n",
    "* The mean delivery time on the Weekdays is 28.34 minutes and on Weekends is 22.47 minutes.\n",
    "* This tells that delivery is made quickers on weekends rather than weekdays. It should be probably be because of the traffic which is better on the weekends."
   ]
  },
  {
   "cell_type": "markdown",
   "id": "6430e56f",
   "metadata": {},
   "source": [
    "### **Question 17:** Write the conclusions and business recommendations derived from the analysis. (5 marks)"
   ]
  },
  {
   "attachments": {},
   "cell_type": "markdown",
   "id": "10035a08",
   "metadata": {},
   "source": [
    "### Conclusions and Business Recommendations:\n",
    "* Based on the given data, we can conclude that the minimum order for any type of cuisine is 4.47 dollars and there have been orders which have costed less than 10 dollars but to delivery them, it has taken minimum of 20 minutes which is a loss considering the amount of profit made for that order.\n",
    "* Any order placed in the restaurant for any type of cuisine has taken minimum 20 minutes to prepare, the largest being 35 minutes to prepare them, so if the company could consolidate orders from the restaurants which are nearby each other, it would cost them less time to delivery to the people who are also living nearby then they can see some profit margin for them, this can also see in increase of a rating for that restaurant, thereby increasing the number of orders for that restaurants.\n",
    "* From the above dataset most of the orders belongs to the cuisine type of Korean, Japanese, Italian with American and Indian being the most popular type of food to be ordered the most, so it highly recommended that they consolidate orders from these type of cuisines, so even if the delivery time increases and they can increase the numbers of orders, then there will be profit margin for them.\n",
    "* The IQR for Korean, Southern, Spanish and Vietnamese are high indicating that they have items in their menus which are highly priced. We can infer that the customers have ordered less items in their order but it has costed them more, so there is no need to consolidated orders on these kinds of restaurants as the profit margin is relatively high for these type of cuisines orders.\n",
    "* With the above calculations made from the above questions asked, we concluded that the company made around 20% profit for the total revenue generated with the all types of restaurants. It is recommended that they charge the restaurants 35% on orders 20 dollars or more and 20% on orders of 5 dollars or more, they profit margin will drastically increase. It is also recommended that there should be delivery on orders of minimum 10 dollars. This margin will sustain owing to the new changes which pandemic brought upon people's life, the company can take this measure to see their profit increase as people who have no time to cook will be forced to order food costing minimum of 10 dollars.\n",
    "\n",
    "\n"
   ]
  }
 ],
 "metadata": {
  "kernelspec": {
   "display_name": "Python 3",
   "language": "python",
   "name": "python3"
  },
  "language_info": {
   "codemirror_mode": {
    "name": "ipython",
    "version": 3
   },
   "file_extension": ".py",
   "mimetype": "text/x-python",
   "name": "python",
   "nbconvert_exporter": "python",
   "pygments_lexer": "ipython3",
   "version": "3.8.8"
  }
 },
 "nbformat": 4,
 "nbformat_minor": 5
}
